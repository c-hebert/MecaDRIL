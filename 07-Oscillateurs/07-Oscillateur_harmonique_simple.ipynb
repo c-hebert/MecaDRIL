{
 "cells": [
  {
   "cell_type": "markdown",
   "metadata": {},
   "source": [
    "# Mouvement harmonique\n",
    "\n",
    "Tracé des courbes position, vitesse et accélération pour un mouvement harmonique non amorti"
   ]
  },
  {
   "cell_type": "code",
   "execution_count": null,
   "metadata": {},
   "outputs": [],
   "source": [
    "import numpy as np\n",
    "\n",
    "from bokeh.layouts import row, column\n",
    "from bokeh.models import CustomJS, Slider\n",
    "from bokeh.plotting import figure, show, ColumnDataSource\n",
    "\n",
    "from bokeh.io import push_notebook, show, output_notebook\n",
    "from ipywidgets import interact\n",
    "#from bokeh.resources import INLINE \n",
    "\n",
    "output_notebook()"
   ]
  },
  {
   "cell_type": "markdown",
   "metadata": {},
   "source": [
    "On considère un oscillateur harmonique simple constitué d'une masse $m$ fixée à un ressort de raideur $k$.\n",
    "\n",
    "A $t=0$ on l'écarte de sa position de $x_0$ et on la lâche sans vitesse initiale.\n",
    "\n",
    "L'équation différentielle s'écrit:\n",
    "\n",
    "$$\\ddot x + \\Omega_0^2 x = 0$$\n",
    "\n",
    "avec $$\\Omega_0^2=\\frac{k}{m}$$"
   ]
  },
  {
   "cell_type": "code",
   "execution_count": null,
   "metadata": {},
   "outputs": [],
   "source": [
    "#valeurs initiales\n",
    "mass = 0.3 #kg\n",
    "kressort = 10 #N/m \n",
    "xzero = 3 \n",
    "omega0 = np.sqrt(kressort/mass)\n",
    "\n",
    "t = np.linspace(0, 3, 500)\n",
    "y1 = xzero*np.cos(omega0*t)\n",
    "v1 = -xzero*omega0*np.sin(omega0*t)\n",
    "a1 = - xzero*omega0**2*np.cos(omega0*t)\n",
    "\n",
    "p = figure(y_range=(-4.5, 4.5), width=600, height=400)\n",
    "\n",
    "pos = p.line(t, y1, line_width=3, legend_label=\"position\")\n",
    "vit = p.line(t, v1/7, line_width=3, color=\"orange\",legend_label=\"vitesse\")\n",
    "acc = p.line(t, a1/50, line_width=3, color=\"green\",legend_label=\"acceleration\")\n",
    "\n",
    "p.legend.location = \"top_right\"\n",
    "p.legend.click_policy=\"hide\"\n",
    "\n",
    "def update(mass=0.3, kressort=10, xzero=3):\n",
    "    omega0 = np.sqrt(kressort/mass)\n",
    "    pos.data_source.data['y'] = xzero * np.cos(omega0*t)\n",
    "    vit.data_source.data['y'] = - xzero *omega0* np.sin(omega0*t)/7\n",
    "    acc.data_source.data['y'] = - xzero * omega0**2*np.cos(omega0*t)/50\n",
    "\n",
    "    push_notebook()\n",
    "\n"
   ]
  },
  {
   "cell_type": "markdown",
   "metadata": {},
   "source": [
    "## Utilisation du notebook:\n",
    "\n",
    "faire varier les paramètres $m$, $k$ et $x_0$ et observer l'effet sur position / vitesse et accélération"
   ]
  },
  {
   "cell_type": "code",
   "execution_count": null,
   "metadata": {},
   "outputs": [],
   "source": [
    "show(p, notebook_handle=True)\n",
    "interact(update, mass=(0.1,0.5,0.01), kressort=(1,100), xzero=(-3,3,0.1));"
   ]
  },
  {
   "cell_type": "code",
   "execution_count": null,
   "metadata": {},
   "outputs": [],
   "source": []
  }
 ],
 "metadata": {
  "hide_input": false,
  "kernelspec": {
   "display_name": "Python3",
   "language": "python",
   "name": "python3"
  },
  "language_info": {
   "codemirror_mode": {
    "name": "ipython",
    "version": 3
   },
   "file_extension": ".py",
   "mimetype": "text/x-python",
   "name": "python",
   "nbconvert_exporter": "python",
   "pygments_lexer": "ipython3",
   "version": "3.12.3"
  }
 },
 "nbformat": 4,
 "nbformat_minor": 4
}
