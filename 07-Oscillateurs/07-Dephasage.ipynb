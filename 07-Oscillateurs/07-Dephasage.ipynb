{
 "cells": [
  {
   "cell_type": "markdown",
   "metadata": {},
   "source": [
    "# Déphasage de la réponse d'un oscillateur"
   ]
  },
  {
   "cell_type": "markdown",
   "metadata": {},
   "source": [
    "Cette petite animation permet de visualiser une fonction de transfert complexe pour un oscillateur harmonique, et comment sela se traduit par un déphasage visualisé sur la composante réelle."
   ]
  },
  {
   "cell_type": "code",
   "execution_count": null,
   "metadata": {},
   "outputs": [],
   "source": [
    "import numpy as np\n",
    "import matplotlib.pyplot as plt\n",
    "from matplotlib.animation import FuncAnimation\n",
    "from IPython.display import Image"
   ]
  },
  {
   "cell_type": "code",
   "execution_count": null,
   "metadata": {},
   "outputs": [],
   "source": [
    "def gen():\n",
    "    for ot in np.linspace(0,6*np.pi,100):\n",
    "        yield f*np.cos(ot), f*np.sin(ot), A*np.cos(ot+phi), A*np.sin(ot+phi), ot\n"
   ]
  },
  {
   "cell_type": "code",
   "execution_count": null,
   "metadata": {},
   "outputs": [],
   "source": [
    "def init():\n",
    "    axes[0].set_ylim(-2, 2)\n",
    "    axes[0].set_xlim(-2, 2)\n",
    "    axes[0].set_xlabel('x')\n",
    "    axes[0].set_ylabel('y')\n",
    "    axes[0].set_aspect('equal')\n",
    "    axes[0].grid()\n",
    "    \n",
    "    axes[1].set_ylim(-2, 2)\n",
    "    axes[1].set_xlim(0, 6*np.pi)\n",
    "    axes[1].set_xlabel('temps')\n",
    "    axes[1].grid()\n",
    "        \n",
    "    axes[1].legend()\n",
    "    return linef, lineA, projf, projA, pointf, pointA, exitation, response\n",
    "\n",
    "def func(data):\n",
    "    fx, fy, Ax, Ay, ot = data\n",
    "    fx_.append(fx)\n",
    "    Ax_.append(Ax)\n",
    "    ang.append(ot)\n",
    "    \n",
    "    exitation.set_data(ang, fx_)\n",
    "    response.set_data(ang, Ax_)\n",
    "    linef.set_data([0, fx], [0, fy])\n",
    "    lineA.set_data([0, Ax], [0, Ay])\n",
    "    projf.set_data([0, fx], [0.03, 0.03])\n",
    "    projA.set_data([0, Ax], [-0.03, -0.03])\n",
    "    pointf.set_data([fx], [fy])\n",
    "    pointA.set_data([Ax], [Ay])\n",
    "    return linef, lineA, projf, projA, pointf, pointA, exitation, response"
   ]
  },
  {
   "cell_type": "code",
   "execution_count": null,
   "metadata": {},
   "outputs": [],
   "source": [
    "fig, axes = plt.subplots(1,2,figsize=(13,5))\n",
    "#time_text = axes[0].text(0.05, 0.8, '', transform=axes[0].transAxes)\n",
    "\n",
    "#Plot layout setup\n",
    "f = 1.2\n",
    "A = 1.7\n",
    "phi = np.pi/6\n",
    "linef, = axes[0].plot([], [], 'r-', lw=2)\n",
    "lineA, = axes[0].plot([], [], 'b-', lw=2)\n",
    "projf, = axes[0].plot([], [], 'r-', lw=3)\n",
    "projA, = axes[0].plot([], [], 'b-', lw=3)\n",
    "\n",
    "#circle_line, = axes[0].plot([], [], 'g', lw=3)\n",
    "pointf, = axes[0].plot([], [], 'ro', ms=5)\n",
    "pointA, = axes[0].plot([], [], 'bo', ms=5)\n",
    "\n",
    "exitation, = axes[1].plot([], [], 'r-', lw=3, label='Excitation')\n",
    "response, = axes[1].plot([], [], 'b-', lw=3, label='Réponse')\n",
    "\n",
    "circle1 = plt.Circle((0, 0), 1, color='r',fill=False)\n",
    "axes[0].add_artist(circle1)\n",
    "\n",
    "\n",
    "fx_, fy_ = [], []\n",
    "Ax_, Ay_ = [], []\n",
    "ang = []\n",
    "    \n",
    "plt.ioff()\n",
    "\n",
    "plt.rcParams['animation.html'] = 'html5'\n",
    "\n",
    "animation = FuncAnimation(fig, func, gen, init_func=init, blit=True, interval=1./18*2500, cache_frame_data=False)\n",
    "\n",
    "animation"
   ]
  },
  {
   "cell_type": "code",
   "execution_count": null,
   "metadata": {},
   "outputs": [],
   "source": []
  }
 ],
 "metadata": {
  "hide_input": false,
  "kernelspec": {
   "display_name": "Python3",
   "language": "python",
   "name": "python3"
  },
  "language_info": {
   "codemirror_mode": {
    "name": "ipython",
    "version": 3
   },
   "file_extension": ".py",
   "mimetype": "text/x-python",
   "name": "python",
   "nbconvert_exporter": "python",
   "pygments_lexer": "ipython3",
   "version": "3.12.3"
  }
 },
 "nbformat": 4,
 "nbformat_minor": 4
}
