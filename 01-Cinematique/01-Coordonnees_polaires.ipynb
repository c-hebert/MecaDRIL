{
 "cells": [
  {
   "cell_type": "markdown",
   "metadata": {},
   "source": [
    "# Important note\n",
    "\n",
    "This notebook is obsolete and not maintained. For an interactive display of polar coordinates, please use\n",
    "\n",
    "https://www.geogebra.org/m/qqqremda"
   ]
  },
  {
   "cell_type": "code",
   "execution_count": null,
   "metadata": {},
   "outputs": [],
   "source": [
    "import numpy as np\n",
    "import random as rd\n",
    "\n",
    "from ipywidgets import interact, interactive, fixed, interact_manual\n",
    "from ipywidgets import FloatSlider\n",
    "\n",
    "from bokeh.io import push_notebook, show, output_notebook\n",
    "from bokeh.layouts import row, column\n",
    "from bokeh.models import CustomJS, Slider, Arrow, Label, ArrowHead\n",
    "from bokeh.plotting import figure, output_file, show, ColumnDataSource, output_notebook\n",
    "output_notebook()\n"
   ]
  },
  {
   "cell_type": "markdown",
   "metadata": {},
   "source": [
    "### Lien entre coordonnées polaires et coordonnées cartésiennes"
   ]
  },
  {
   "cell_type": "code",
   "execution_count": null,
   "metadata": {},
   "outputs": [],
   "source": [
    "n = 500\n",
    "x = np.linspace(0, 20, n)\n",
    "y = np.linspace(0, 20, n)\n",
    "r = np.sqrt(x**2 + y**2)\n",
    "\n",
    "rot_matrix = np.array([[np.cos(0.5*np.pi), -np.sin(0.5*np.pi)], \n",
    "                       [np.sin(0.5*np.pi), np.cos(0.5*np.pi)]])\n",
    "\n",
    "# Unit vectors points for each coordinate\n",
    "zeros = np.zeros(n)\n",
    "u = np.linspace(0, 5, n)\n",
    "u_theta = np.dot(np.array([5, 5]), rot_matrix)\n",
    "\n",
    "plot = figure(x_range=(-50, 50), y_range=(-50, 50), width=600, height=600, title=\"Polar coordinate\")\n",
    "\n",
    "# Main line\n",
    "line = plot.line(x, y, color=\"#00ced1\", line_width=5, alpha=0.6, legend_label=\"Transformation linéaire\")\n",
    "\n",
    "# Labels for coordinates\n",
    "x_text = f\"x = {x[-1]:.2f}\"\n",
    "y_text = f\"y = {y[-1]:.2f}\"\n",
    "x_label = Label(x=x[-1], y=0, text=x_text)\n",
    "y_label = Label(x=0, y=y[-1], text=y_text)\n",
    "\n",
    "# Unit vectors lines with labels\n",
    "plot.line(u, zeros, color=\"#ED192D\", line_width=3, alpha=0.5, legend_label=\"Vector unité sur l'axe x\")\n",
    "u_x_label = Label(x=u[-1], y=0, text='u_x')\n",
    "\n",
    "plot.line(zeros, u, color=\"#ED192D\", line_width=3, alpha=0.5, legend_label=\"Vector unité sur l'axe y\")\n",
    "u_y_label = Label(x=0, y=u[-1], text='u_y')\n",
    "\n",
    "u_r_line = plot.line(x[-1]+u, y[-1]+u, color=\"#008000\", line_width=3, alpha=0.5, legend_label=\"Vector unité de rho\")\n",
    "u_r_label = Label(x=x[-1]+u[-1], y=y[-1]+u[-1], text='u_r')\n",
    "u_theta_line = plot.line(x[-1]+np.linspace(0, u_theta[0], n), y[-1]+np.linspace(0, u_theta[1], n), color=\"#008000\", line_width=3, alpha=0.5, legend_label=\"Vector unité de theta\")\n",
    "u_theta_label = Label(x=x[-1]+u_theta[0], y=y[-1]+u_theta[1], text='u_theta')\n",
    "\n",
    "# Plot properties\n",
    "plot.xaxis.axis_label = 'x axis'\n",
    "plot.yaxis.axis_label = 'y axis'\n",
    "plot.legend.background_fill_alpha = 0.2\n",
    "\n",
    "# Add layout to the plot\n",
    "plot.add_layout(x_label)\n",
    "plot.add_layout(y_label)\n",
    "plot.add_layout(u_x_label)\n",
    "plot.add_layout(u_y_label)\n",
    "plot.add_layout(u_r_label)\n",
    "plot.add_layout(u_theta_label)"
   ]
  },
  {
   "cell_type": "code",
   "execution_count": null,
   "metadata": {},
   "outputs": [],
   "source": [
    "def update_plot(r_slider, theta_slider):\n",
    "    M_x = r_slider*np.cos(theta_slider)\n",
    "    M_y = r_slider*np.sin(theta_slider)\n",
    "    \n",
    "    u_r = np.array([5* np.cos(theta_slider), 5*np.sin(theta_slider)])\n",
    "    #Rotate the unit vector for theta\n",
    "    theta_up = -np.dot(u_r.T, rot_matrix)\n",
    "    \n",
    "    line.data_source.data['x'] = np.linspace(0, M_x, n)\n",
    "    line.data_source.data['y'] = np.linspace(0, M_y, n)\n",
    "    x_label.x = M_x\n",
    "    x_label.text = \"x = \" + \"%.2f\" % round(M_x,2)\n",
    "    y_label.y = M_y\n",
    "    y_label.text = \"y = \" + \"%.2f\" % round(M_y,2)\n",
    "\n",
    "    \n",
    "    #Unit vectors update\n",
    "    u_r_line.data_source.data['x'] = np.linspace(0, u_r[0], n) + M_x\n",
    "    u_r_line.data_source.data['y'] = np.linspace(0, u_r[1], n) + M_y\n",
    "    \n",
    "    \n",
    "    u_theta_line.data_source.data['x'] = np.linspace(0, theta_up[0], n) + M_x\n",
    "    u_theta_line.data_source.data['y'] =np.linspace(0, theta_up[1], n) + M_y\n",
    "    \n",
    "    u_r_label.x = u_r[0] + M_x\n",
    "    u_r_label.y = u_r[1] + M_y\n",
    "    u_theta_label.x = theta_up[0] + M_x\n",
    "    u_theta_label.y = theta_up[1] + M_y\n",
    "    \n",
    "    push_notebook()\n",
    "    return"
   ]
  },
  {
   "cell_type": "code",
   "execution_count": null,
   "metadata": {},
   "outputs": [],
   "source": [
    "show(plot, notebook_handle=True)\n",
    "interact(update_plot, \\\n",
    "         r_slider = FloatSlider(min=0.0, max=r[-1] + 5, step=0.5, value=20, description='rho :'), \\\n",
    "         theta_slider = FloatSlider(min=0.0, max=2*np.pi + 0.05, step=0.05, value=0.5, description='theta :'));"
   ]
  },
  {
   "cell_type": "markdown",
   "metadata": {},
   "source": [
    "Notebook by Cécile Hébert (2018-2023). Except where otherwise noted, the content of this notebook is licensed under MIT licence."
   ]
  }
 ],
 "metadata": {
  "hide_input": false,
  "kernelspec": {
   "display_name": "Python3",
   "language": "python",
   "name": "python3"
  },
  "language_info": {
   "codemirror_mode": {
    "name": "ipython",
    "version": 3
   },
   "file_extension": ".py",
   "mimetype": "text/x-python",
   "name": "python",
   "nbconvert_exporter": "python",
   "pygments_lexer": "ipython3",
   "version": "3.12.3"
  }
 },
 "nbformat": 4,
 "nbformat_minor": 4
}
