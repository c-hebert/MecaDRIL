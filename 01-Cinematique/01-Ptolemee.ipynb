{
 "cells": [
  {
   "cell_type": "markdown",
   "metadata": {},
   "source": [
    "## Le système de Ptolémée"
   ]
  },
  {
   "cell_type": "markdown",
   "metadata": {},
   "source": [
    "Au II$^{ème}$ siècle, l'astronome grec Ptolémée proposa un model géocentrique qui survivra jusqu'au XVII$^{ème}$ siècle.\n",
    "\n",
    "Dans le système de Ptolémée, la Terre se trouve au centre de l'univers et les autres corps célestes se déplacent le long d'une orbite circulaire de rayon $r$ (épicycle), dont le centre tourne autour de la Terre le long d'une orbite circulaire de rayon $R$ (déférent). \n",
    "\n",
    "On décrit le mouvement le long de l'épicycle et du déférent à l'aide des angles $\\theta$ et $\\phi$ tels que $\\dot{\\theta}=\\omega$ et $\\dot{\\phi}=\\Omega$, avec $\\omega$ et $\\Omega$, vitesses angulaires constantes et positives."
   ]
  },
  {
   "cell_type": "markdown",
   "metadata": {},
   "source": [
    "Quelle est l'allure de la trajectoire en fonction des paramètres $r$, $R$, $\\omega$ et $\\Omega$?"
   ]
  },
  {
   "cell_type": "markdown",
   "metadata": {},
   "source": [
    "## Un petit dessin permet de visualiser la situation et les paramètres"
   ]
  },
  {
   "cell_type": "code",
   "execution_count": null,
   "metadata": {
    "ExecuteTime": {
     "end_time": "2019-09-12T07:01:42.640224Z",
     "start_time": "2019-09-12T07:01:42.618313Z"
    }
   },
   "outputs": [],
   "source": [
    "from IPython.display import Image\n",
    "Image(\"Ptolemee.png\")"
   ]
  },
  {
   "cell_type": "markdown",
   "metadata": {},
   "source": [
    "## On trace la trajectoire de manière dynamique"
   ]
  },
  {
   "cell_type": "code",
   "execution_count": null,
   "metadata": {
    "ExecuteTime": {
     "end_time": "2019-09-12T07:01:43.224446Z",
     "start_time": "2019-09-12T07:01:42.644901Z"
    }
   },
   "outputs": [],
   "source": [
    "%matplotlib widget\n",
    "import numpy as np\n",
    "from numpy import cos as cos \n",
    "from numpy import sin as sin \n",
    "import matplotlib.pyplot as plt\n",
    "from matplotlib.animation import FuncAnimation\n",
    "from IPython.display import Image\n",
    "from tqdm import tqdm"
   ]
  },
  {
   "cell_type": "code",
   "execution_count": null,
   "metadata": {
    "ExecuteTime": {
     "end_time": "2019-09-12T07:01:43.233829Z",
     "start_time": "2019-09-12T07:01:43.227327Z"
    }
   },
   "outputs": [],
   "source": [
    "# computes the orbit\n",
    "def orbit(r, center=(0,0)):\n",
    "    N = 100\n",
    "    theta = np.linspace(0,2*np.pi,N)\n",
    "    y = r*np.sin(theta) + center[1]\n",
    "    x = r*np.cos(theta) + center[0]\n",
    "    return x,y\n",
    "\n",
    "# computes the position of the Sun and the planet\n",
    "def gen():\n",
    "    for t in tqdm(np.arange(0,T_max, dt)):\n",
    "        yield R*cos(W*t), R*sin(W*t), R*cos(W*t)+r*cos(w*t), R*sin(W*t)+r*sin(w*t), t\n"
   ]
  },
  {
   "cell_type": "code",
   "execution_count": null,
   "metadata": {
    "ExecuteTime": {
     "end_time": "2019-09-12T07:01:43.311745Z",
     "start_time": "2019-09-12T07:01:43.237903Z"
    }
   },
   "outputs": [],
   "source": [
    "def init():\n",
    "    axes.set_ylim(-1.1*(r+R), 1.1*(r+R))\n",
    "    axes.set_xlim(-1.1*(r+R), 1.1*(r+R))\n",
    "    axes.set_xlabel('x')\n",
    "    axes.set_ylabel('y')\n",
    "    axes.set_aspect('equal')\n",
    "    axes.grid()\n",
    "\n",
    "def func(data):    \n",
    "    x1, y1, x2, y2, t = data\n",
    "    time_text.set_text('Time = %.2f' % (t))\n",
    "    \n",
    "    trajx_1.append(x1)\n",
    "    trajy_1.append(y1)\n",
    "    trajx_2.append(x2)\n",
    "    trajy_2.append(y2)\n",
    "    \n",
    "    cx1, cy1 = orbit(R)\n",
    "    cx2, cy2 = orbit(r, center=(x1,y1))\n",
    "    \n",
    "    orb_1.set_data(cx1, cy1)\n",
    "    orb_2.set_data(cx2, cy2)\n",
    "    traj_1.set_data(trajx_1,trajy_1)\n",
    "    traj_2.set_data(trajx_2,trajy_2)\n",
    "    point_1.set_data([x1], [y1])\n",
    "    point_2.set_data([x2], [y2])"
   ]
  },
  {
   "cell_type": "code",
   "execution_count": null,
   "metadata": {
    "ExecuteTime": {
     "end_time": "2019-09-12T07:01:43.386850Z",
     "start_time": "2019-09-12T07:01:43.314602Z"
    }
   },
   "outputs": [],
   "source": [
    "#Plot layout setup\n",
    "R = 5\n",
    "r = 1\n",
    "W = 1\n",
    "w = 3*np.pi"
   ]
  },
  {
   "cell_type": "code",
   "execution_count": null,
   "metadata": {
    "ExecuteTime": {
     "end_time": "2019-09-12T07:01:56.433815Z",
     "start_time": "2019-09-12T07:01:43.391450Z"
    }
   },
   "outputs": [],
   "source": [
    "fig, axes = plt.subplots(1,1, figsize=(8,8))\n",
    "time_text = axes.text(0.05, 0.95, '', transform=axes.transAxes)\n",
    "\n",
    "# dt is chosen such that the faster object revolves its orbit in 100 timestamps.\n",
    "# T_max is chosen such that the sun revolves for at the Earth 5 times.\n",
    "dt = 0.01#3.6*np.pi/180/max(abs(w), abs(W))\n",
    "T_max = 2.*np.pi/abs(W)    \n",
    "interval = 1./36 * 1000\n",
    "\n",
    "orb_1, = axes.plot([],[], 'k--', lw=1)\n",
    "orb_2, = axes.plot([], [], 'k--', lw=1)\n",
    "\n",
    "traj_1, = axes.plot([], [], 'b-', lw=2)\n",
    "traj_2, = axes.plot([], [], 'r-', lw=2)\n",
    "\n",
    "point_0, = axes.plot([0], [0], 'ko', ms=6)\n",
    "point_1, = axes.plot([], [], 'bo', ms=7)\n",
    "point_2, = axes.plot([], [], 'ro', ms=7)\n",
    "\n",
    "trajx_1, trajy_1 = [], []\n",
    "trajx_2, trajy_2 = [], []\n",
    "    \n",
    "plt.ioff();\n",
    "plt.rcParams['animation.html'] = 'html5'\n",
    "\n",
    "animation = FuncAnimation(fig, func, gen, init_func=init, blit=False, interval=interval, save_count=int(T_max/dt) );\n",
    "# it will take a while... \n",
    "animation"
   ]
  }
 ],
 "metadata": {
  "hide_input": false,
  "kernelspec": {
   "display_name": "Python3",
   "language": "python",
   "name": "python3"
  },
  "language_info": {
   "codemirror_mode": {
    "name": "ipython",
    "version": 3
   },
   "file_extension": ".py",
   "mimetype": "text/x-python",
   "name": "python",
   "nbconvert_exporter": "python",
   "pygments_lexer": "ipython3",
   "version": "3.12.3"
  },
  "toc": {
   "base_numbering": 1,
   "nav_menu": {},
   "number_sections": true,
   "sideBar": true,
   "skip_h1_title": true,
   "title_cell": "Table of Contents",
   "title_sidebar": "Contents",
   "toc_cell": false,
   "toc_position": {},
   "toc_section_display": true,
   "toc_window_display": false
  }
 },
 "nbformat": 4,
 "nbformat_minor": 4
}
