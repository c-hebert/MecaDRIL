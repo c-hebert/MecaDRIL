{
 "cells": [
  {
   "cell_type": "markdown",
   "metadata": {},
   "source": [
    "# La cycloide"
   ]
  },
  {
   "cell_type": "markdown",
   "metadata": {},
   "source": [
    "On s'intéresse à la trajectoire suivie par un point matériel situé sur la périphérie d'une roue qui roule sans glisser. "
   ]
  },
  {
   "cell_type": "code",
   "execution_count": null,
   "metadata": {},
   "outputs": [],
   "source": [
    "import numpy as np\n",
    "import matplotlib.pyplot as plt\n",
    "from matplotlib.animation import FuncAnimation\n",
    "from IPython.display import Image\n",
    "from tqdm import tqdm"
   ]
  },
  {
   "cell_type": "code",
   "execution_count": null,
   "metadata": {},
   "outputs": [],
   "source": [
    "Image(\"Cycloid.png\")"
   ]
  },
  {
   "cell_type": "markdown",
   "metadata": {},
   "source": [
    "Le but est de tracer les coordonnées du point $P$ comme fonction paramétrique du temps. \n",
    "\n",
    "Le dessin est fait pour une roue qui se déplace de gauche à droite. C'est plus intuitif mais rajoute une petite diffuculté avec les signes!\n",
    "\n",
    "Le mouvement de $P$ est la superposition d'un movement de translation horizontale à la vitesse $v_c=R\\omega$, si $\\omega > 0$ est la norme de la vitesse angulaire, et d'un mouvement de rotation, qui se fait dans le sens **contraire du sens trigonométrique**. Le point $P$ est donc repéré, dans la rotation par $\\alpha =- \\omega t +\\alpha_0$.\n",
    "\n",
    "De plus on choisit le temps $t=0$ tel que $P$ soit en $O$, origine du repère. Donc $\\alpha (t=0)=\\alpha_0=-\\pi/2$\n",
    "\n",
    "Le point $P$ a donc pour coordonnées\n",
    "\n",
    "$$\\vec{OP} = \\vec{OC} + \\vec{CP} = \\begin{pmatrix} R \\omega t \\\\R \\end{pmatrix} +\n",
    "\\begin{pmatrix} R \\cos (-\\omega t-\\pi/2) \\\\R \\sin (-\\omega t -\\pi/2) \\end{pmatrix} =\n",
    "\\begin{pmatrix}  R \\omega t - R \\sin (\\omega t) \\\\R - R \\cos (\\omega t) \\end{pmatrix}\n",
    "$$\n",
    "\n",
    "en appelant $\\theta = \\omega t$ \n",
    "\n",
    "$$\\vec{OP}  =\n",
    "\\begin{pmatrix}  R \\theta - R \\sin (\\theta) \\\\R - R \\cos (\\theta) \\end{pmatrix}\n",
    "$$\n",
    "\n",
    "Le centre du cercle $C$ est donné par\n",
    "\n",
    "$$\\vec{OC}  =\n",
    "\\begin{pmatrix}  R \\theta  \\\\R  \\end{pmatrix}\n",
    "$$\n",
    "\n",
    "Le vecteur vitesse instantanée du point $P$ est obtenu par $\\vec v_P= d \\vec{OP}/dt$\n",
    "\n",
    "$$\\vec{v}_P = \n",
    "\\begin{pmatrix}  R \\omega  - R \\omega \\cos (\\omega t) \\\\  R  \\omega \\sin (\\omega t) \\end{pmatrix}=\n",
    "\\begin{pmatrix}  R \\omega (1   - \\cos (\\theta) \\\\  R  \\omega \\sin (\\theta) \\end{pmatrix}\n",
    "$$"
   ]
  },
  {
   "cell_type": "code",
   "execution_count": null,
   "metadata": {},
   "outputs": [],
   "source": [
    "# Définition du cercle pour son tracé. Il est composé de T segments\n",
    "\n",
    "def circle(a, b, r):\n",
    "    # (a,b): the center of the circle\n",
    "    # r: the radius of the circle\n",
    "    # T: The number of the segments for drawing the circle\n",
    "    T = 100\n",
    "    x, y = [0]*T, [0]*T\n",
    "    for i,theta in enumerate(np.linspace(0,2*np.pi,T)):\n",
    "        x[i] = a + r*np.cos(theta)\n",
    "        y[i] = b + r*np.sin(theta)\n",
    "    return x, y\n",
    "\n",
    "# Fonction qui calcule :\n",
    "# P_x; P_y, C_x, vP_x et vP_x\n",
    "# pour 100 valeurs de theta entre 0 et 9 pi\n",
    "\n",
    "def gen():\n",
    "    for theta in tqdm(np.linspace(0,9*np.pi,100)):\n",
    "        yield R*(theta-np.sin(theta)), R*(1-np.cos(theta)), R*theta, R*(1 - np.cos(theta)), R*np.sin(theta), theta\n"
   ]
  },
  {
   "cell_type": "code",
   "execution_count": null,
   "metadata": {},
   "outputs": [],
   "source": [
    "def init():\n",
    "    axes[0].set_ylim(0, 20)\n",
    "    axes[0].set_xlim(0, 80)\n",
    "    axes[0].set_xlabel('x')\n",
    "    axes[0].set_ylabel('y')\n",
    "    axes[0].set_aspect('equal')\n",
    "    axes[0].grid()\n",
    "    \n",
    "    axes[1].set_ylim(0, 10)\n",
    "    axes[1].set_xlim(0, 80)\n",
    "    #axes[1].set_xlabel('theta / $\\pi$')\n",
    "    axes[1].set_xlabel('x')\n",
    "    axes[1].set_ylabel('vitesse x / $\\\\omega$')\n",
    "    axes[1].grid()\n",
    "    \n",
    "    axes[2].set_ylim(-5, 5)\n",
    "    axes[2].set_xlim(0, 80)\n",
    "    #axes[2].set_xlabel('theta / $\\pi$')\n",
    "    axes[2].set_xlabel('x')\n",
    "    axes[2].set_ylabel('vitesse y / $\\\\omega$')\n",
    "    axes[2].grid()\n",
    "    \n",
    "    axes[1].legend()\n",
    "    axes[2].legend()\n",
    "    return \n",
    "\n",
    "def func(data):\n",
    "    x, y, Rt, vx, vy, th = data\n",
    "    time_text.set_text(r'$\\theta$ = %.2f $\\pi$' % (th/np.pi))\n",
    "    xx.append(x)\n",
    "    yy.append(y)\n",
    "    vx_.append(vx)\n",
    "    vy_.append(vy)\n",
    "    ang.append(th/np.pi)\n",
    "    cx, cy = circle(Rt, R, R)\n",
    "    \n",
    "    cycloid.set_data(xx, yy)\n",
    "    line.set_data([x, Rt], [y, R])  # Ensure using lists\n",
    "    circle_line.set_data(cx, cy)\n",
    "    point.set_data([x], [y])  # Ensure using lists\n",
    "    velx.set_data(xx, vx_)\n",
    "    vely.set_data(xx, vy_)\n",
    "    return"
   ]
  },
  {
   "cell_type": "code",
   "execution_count": null,
   "metadata": {},
   "outputs": [],
   "source": [
    "fig, axes = plt.subplots(3,1, figsize=(12,12))\n",
    "time_text = axes[0].text(0.05, 0.8, '', transform=axes[0].transAxes)\n",
    "\n",
    "#Plot layout setup\n",
    "R = 3\n",
    "cycloid, = axes[0].plot([], [], 'r-', lw=3)\n",
    "line, = axes[0].plot([], [], 'y-', lw=3)\n",
    "circle_line, = axes[0].plot([], [], 'g', lw=3)\n",
    "point, = axes[0].plot([], [], 'bo', ms=5)\n",
    "\n",
    "velx, = axes[1].plot([], [], 'b-', lw=3, label='vitesse x')\n",
    "vely, = axes[2].plot([], [], 'b-', lw=3, label='vitesse y')\n",
    "\n",
    "\n",
    "xx, yy = [], []\n",
    "vx_, vy_ = [], []\n",
    "ang = []\n",
    "    \n",
    "plt.ioff()\n",
    "\n",
    "plt.rcParams['animation.html'] = 'html5'\n",
    "\n",
    "animation = FuncAnimation(fig, func, gen, init_func=init, blit=False, interval=1./36*2500, save_count=100)\n",
    "animation"
   ]
  },
  {
   "cell_type": "code",
   "execution_count": null,
   "metadata": {},
   "outputs": [],
   "source": []
  }
 ],
 "metadata": {
  "hide_input": false,
  "kernelspec": {
   "display_name": "Python3",
   "language": "python",
   "name": "python3"
  },
  "language_info": {
   "codemirror_mode": {
    "name": "ipython",
    "version": 3
   },
   "file_extension": ".py",
   "mimetype": "text/x-python",
   "name": "python",
   "nbconvert_exporter": "python",
   "pygments_lexer": "ipython3",
   "version": "3.12.3"
  }
 },
 "nbformat": 4,
 "nbformat_minor": 4
}
