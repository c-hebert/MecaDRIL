{
 "cells": [
  {
   "cell_type": "markdown",
   "metadata": {},
   "source": [
    "# Comment utiliser le notebook.\n",
    "\n",
    "Vous trouverez des cellules contenant du texte et des blocs interactifs. Pour exécuter les fonctions interactives, cliquez sur la cellule, puis cliquez sur le button Run il se trouve sur la parti supérieure du notebook). Il est important de suivre l'ordre des blocs et exécuter tous les blocs précédents pour utiliser les blocs interactifs. "
   ]
  },
  {
   "cell_type": "code",
   "execution_count": null,
   "metadata": {},
   "outputs": [],
   "source": [
    "from IPython.display import Image\n",
    "\n",
    "import matplotlib.pyplot as plt\n",
    "import numpy as np\n",
    "\n",
    "from ipywidgets import interact, interactive, fixed, interact_manual\n",
    "import ipywidgets as widgets\n",
    "from IPython.display import HTML\n",
    "\n",
    "from bokeh.io import push_notebook, show, output_notebook\n",
    "from bokeh.plotting import figure\n",
    "from bokeh.models import Arrow, OpenHead, NormalHead, VeeHead, BoxAnnotation, Legend\n",
    "from bokeh.layouts import gridplot\n",
    "output_notebook()"
   ]
  },
  {
   "cell_type": "markdown",
   "metadata": {},
   "source": [
    "# L'agent Logan : exercice de cinématique\n",
    "\n",
    "Lancé à la poursuite d'un criminel, l'agent Logan du FBI doit traverser une rivière d'une largeur de 1600 m qui coule à 0.80 m$\\cdot$s$^{-1}$ en un minimum de temps et se rendre directement en face de son point de départ. Sachant qu'il peut ramer à 1.50 m$\\cdot$s$^{-1}$ et courir à 3.00 m$\\cdot$s$^{-1}$, décrivez la route qu'il devrait suivre (en bateau et à pied le long de la rive) pour traverser ce cours d'eau le plus rapidement possible.\n",
    "Déterminez le temps minimal requis pour cette traversée.\n"
   ]
  },
  {
   "cell_type": "markdown",
   "metadata": {},
   "source": [
    "## On commence par un schéma..."
   ]
  },
  {
   "cell_type": "code",
   "execution_count": null,
   "metadata": {},
   "outputs": [],
   "source": [
    "Image(\"Logan.png\")"
   ]
  },
  {
   "cell_type": "markdown",
   "metadata": {},
   "source": [
    "## On analyse le problème et on affine  la marche à suivre\n",
    "\n",
    "Logan doit aller de A à B le plus vite possible (pas forcément en ligne droite), \n",
    "sa vitesse par rapport à la rivière est $\\vec v'$, la vitesse du courant $\\vec v_c$, donc sa vitesse par rapport à la rive est $\\vec v = \\vec  v' + \\vec v_c$. \n",
    "\n",
    "Il choisit l'angle $\\beta$. Si il ne choisit pas un beta tel que $\\alpha$ vaille 90°, il ne va pas débarquer en B, et devra courir un peu sur la rive. Mais comme il court plus vite qu'il ne rame, cela peut être une bonne idée si il choisit un beta qui va lui permettre de gagner du temps sur la traversée. \n",
    "\n",
    "Le but est de choisir l'angle qui lui donne le meilleur temps. C'est un problème d'optimisation. On exprime le temps total en fonction du paramètre libre ($\\beta$) et on cherche la valeur de $\\beta$ qui donne le minimum."
   ]
  },
  {
   "cell_type": "markdown",
   "metadata": {},
   "source": [
    "### Fonctions et paramètres"
   ]
  },
  {
   "cell_type": "code",
   "execution_count": null,
   "metadata": {},
   "outputs": [],
   "source": [
    "# Définition des paramètres initiaux\n",
    "l = 1600 #largeur de la rivière (m)\n",
    "v_courant = 0.8 # vitesse du courant (m/s)\n",
    "v_ramer = 1.5 # vitesse à la rame (m/s)\n",
    "v_course = 3.0 # vitesse à la course (m/s)\n",
    "\n",
    "beta = 90.0 # angle de départ"
   ]
  },
  {
   "cell_type": "markdown",
   "metadata": {},
   "source": [
    "## Calcul analytique 1"
   ]
  },
  {
   "cell_type": "markdown",
   "metadata": {},
   "source": [
    "Le temps de traversée à la rame peut être calculé dans le référentiel de l'eau de la rivière.\n",
    "\n",
    "$$t_r=\\frac{l}{v_\\text{ramer} \\sin \\beta}$$\n",
    "\n",
    "Le temps de course nécessite de calculer d'abord la distance à parcourir sur la rive\n",
    "\n",
    "vitesse du courant: $\\vec v_c$\n",
    "\n",
    "vitesse par rapport au courant: $\\vec v'$ avec $|\\vec v'|=v'$ connu ( appelé $v_{ramer}$ dans le programme)\n",
    "\n",
    "vitesse par rapport à la rive: $\\vec v=\\vec v'+\\vec v_c$\n",
    "\n",
    "Composantes des vitesses:\n",
    "\n",
    "\\begin{align*}\n",
    "\\vec v_c&=\\begin{pmatrix}v_c\\\\0 \\end{pmatrix} & \\vec v&=\\begin{pmatrix}v_x=v\\cos\\alpha\\\\v_y=v\\sin\\alpha \\end{pmatrix} & \\vec v'&=\\begin{pmatrix}v'\\cos\\beta\\\\v'\\sin\\beta \\end{pmatrix}\n",
    "\\end{align*}\n",
    "Il vient:\n",
    "\n",
    "$$\\vec v=\\begin{pmatrix}v_c+v'\\cos\\beta\\\\v'\\sin\\beta \\end{pmatrix}=\\begin{pmatrix}v\\cos\\alpha\\\\v\\sin\\alpha \\end{pmatrix}$$\n",
    "\n",
    "Ainsi: $$\\tan\\alpha=\\frac{v\\sin\\alpha}{v\\cos\\alpha}=\\frac{v'\\sin\\beta}{v_c+v'\\cos\\beta}=\\frac ld$$\n",
    "\n",
    "Donc:\n",
    "$$d=l\\frac{v_c+v'\\cos\\beta}{v'\\sin\\beta}$$\n",
    "\n",
    "Le temps de course sur la rive est donc donné par \n",
    "\n",
    "$$t_c=l\\frac{v_c+v'\\cos\\beta}{v'\\sin\\beta}\\frac{1}{v_{course}}=l\\frac{v_\\text{courant}+v_\\text{ramer}\\cos\\beta}{v_\\text{ramer}\\sin\\beta}\\frac{1}{v_\\text{course}} $$\n",
    "\n",
    "Le temps total est $t_c+t_r$"
   ]
  },
  {
   "cell_type": "markdown",
   "metadata": {},
   "source": [
    "### Vitesses"
   ]
  },
  {
   "cell_type": "code",
   "execution_count": null,
   "metadata": {},
   "outputs": [],
   "source": [
    "# vecteur vitesse du rameur par rapport au courant (v') en fonction de l'angle beta (variable) et \n",
    "# de la norme de la vitesse à la rame (v_ramer)\n",
    "\n",
    "v_ramer_ = lambda beta, v_ramer: [np.linspace(0, 200*np.cos(beta)*v_ramer, 10), \\\n",
    "                                  np.linspace(0, 200*np.sin(beta)*v_ramer, 10)]\n",
    "\n",
    "# vecteur vitesse par raport au courant\n",
    "v_ramer_x, v_ramer_y = v_ramer_(beta, v_ramer)\n",
    "\n",
    "# vecteur vitesse courant\n",
    "v_courant_x = v_ramer_x[-1] + np.linspace(0, 300*v_ramer, 10)\n",
    "v_courant_y = [v_ramer_y[-1]]*10\n",
    "\n",
    "# vitesse (vectorielle) initiale en x et y \n",
    "v_init_x = v_ramer*np.cos(beta)\n",
    "v_init_y = v_ramer*np.sin(beta)\n",
    "\n",
    "# angle alpha\n",
    "alpha = np.arctan2(v_courant_y[-1],v_courant_x[-1])\n",
    "print(\"Angle entre la trajectoire dans l'eau et la rive: {:0.4f} [rad]\".format(alpha))"
   ]
  },
  {
   "cell_type": "markdown",
   "metadata": {},
   "source": [
    "### Temps"
   ]
  },
  {
   "cell_type": "code",
   "execution_count": null,
   "metadata": {},
   "outputs": [],
   "source": [
    "# conversion degres radians\n",
    "beta_rad = np.pi*beta/180\n",
    "\n",
    "# fonction pour calculer le temps de traversée à la rame \n",
    "t_ramer = lambda v_ramer, beta: l/(v_ramer*np.sin(beta))\n",
    "# calcul du temps à la rame\n",
    "t_r = t_ramer(v_ramer, beta_rad)\n",
    "\n",
    "# fonction pour calculer le temps de course\n",
    "t_course = lambda v_courant, v_ramer, beta: abs(l*(v_courant + v_ramer*np.cos(beta))/(v_ramer*np.sin(beta) * v_course))\n",
    "# calcul du temps de course\n",
    "t_c = t_course(v_courant, v_ramer, beta_rad)\n",
    "\n",
    "# calcul du temps total \n",
    "t_total = t_r + t_c\n",
    "\n",
    "print('Temps de traversée à la rame {:0.2f}[s]'.format(t_r))\n",
    "print('Temps de course sur la rive {:0.2f}[s]'.format(t_c))\n",
    "print('Temps total {:0.2f}[s]'.format(t_total))"
   ]
  },
  {
   "cell_type": "markdown",
   "metadata": {},
   "source": [
    "### Point d'arrivée"
   ]
  },
  {
   "cell_type": "code",
   "execution_count": null,
   "metadata": {},
   "outputs": [],
   "source": [
    "# distance de course (donne le point d'arrivée)\n",
    "d = (v_courant + v_ramer*np.cos(beta))*t_r\n",
    "print('Distance de course {:0.2f}[m]'.format(d))"
   ]
  },
  {
   "cell_type": "markdown",
   "metadata": {},
   "source": [
    "# Représentation graphique \n",
    "\n",
    "Dans cette partie du Notebook, on définira les différents vecteurs qu'on veut représenter ainsi comme la figure globale. "
   ]
  },
  {
   "cell_type": "markdown",
   "metadata": {},
   "source": [
    "### Définition de la Figure"
   ]
  },
  {
   "cell_type": "code",
   "execution_count": null,
   "metadata": {},
   "outputs": [],
   "source": [
    "# figure\n",
    "p = figure(title=\"Logan\", height=500, width=980, y_range=(-100,1800), x_range=(-2000,3000), \n",
    "           background_fill_color='#ffffff', toolbar_location=\"below\")\n",
    "\n",
    "# rives\n",
    "r_down = p.line(np.linspace(-5000, 5000, 100), [0]*100, color=\"#5A2806\", alpha=0.6, line_width=5)\n",
    "r_down = p.line(np.linspace(-5000, 5000, 100), [l]*100, color=\"#5A2806\", alpha=0.6, line_width=5)\n",
    "\n",
    "# fons de l'image\n",
    "mid_box = BoxAnnotation(bottom=0, top=l, fill_alpha=0.1, fill_color='blue')\n",
    "low_box = BoxAnnotation(bottom=-100, top=0, fill_alpha=0.1, fill_color='green')\n",
    "top_box = BoxAnnotation(bottom=l, top=1800, fill_alpha=0.1, fill_color='green')\n",
    "p.add_layout(mid_box)\n",
    "p.add_layout(low_box)\n",
    "p.add_layout(top_box)"
   ]
  },
  {
   "cell_type": "markdown",
   "metadata": {},
   "source": [
    "#### Point initial, final et d'arrivée"
   ]
  },
  {
   "cell_type": "code",
   "execution_count": null,
   "metadata": {},
   "outputs": [],
   "source": [
    "# point initial\n",
    "A = p.circle([0], [0], size=10, fill_color='#e32020', line_color='#e32020',)\n",
    "\n",
    "# point final\n",
    "B = p.circle([0], [l], size=10, fill_color='#e32020', line_color='#e32020')\n",
    "\n",
    "# point d'arrivé\n",
    "p_arrive = p.circle([d], [l], size=10, fill_color='#0A0451', line_color='#0A0451')"
   ]
  },
  {
   "cell_type": "markdown",
   "metadata": {},
   "source": [
    "#### Vecteurs de différentes vitesses"
   ]
  },
  {
   "cell_type": "code",
   "execution_count": null,
   "metadata": {},
   "outputs": [],
   "source": [
    "# vecteur vitesse par raport au courant\n",
    "vit_ramer= p.line(v_ramer_x, v_ramer_y, color='#D94D31', line_width=1.5)\n",
    "\n",
    "\n",
    "# vecteur vitesse courant\n",
    "vit_courant = p.line(v_courant_x, v_courant_y, color='#130f78', line_width=1.5)\n",
    "\n",
    "\n",
    "# vecteur vitesse par raport à la rive\n",
    "vit_rive = p.line(np.linspace(0 ,v_courant_x[-1], 10), np.linspace(0, v_courant_y[-1], 10), color='#40ba2d',\\\n",
    "                   line_width=1.5)"
   ]
  },
  {
   "cell_type": "markdown",
   "metadata": {},
   "source": [
    "#### Fonctions pour dessiner des flèches pour les vecteurs"
   ]
  },
  {
   "cell_type": "code",
   "execution_count": null,
   "metadata": {},
   "outputs": [],
   "source": [
    "# fonctions pour dessiner des flèches \n",
    "\n",
    "# angle omega\n",
    "omega= np.pi*20/180 # Cet angle sert à dessiner les têtes des flèches\n",
    "\n",
    "def fleches_ramer(v_ramer_x, v_ramer_y, beta):\n",
    "    haut_x = v_ramer_x[-1] + np.linspace(0, -100*np.cos(beta + omega), 10)\n",
    "    haut_y = v_ramer_y[-1] + np.linspace(0, -100*np.sin(beta + omega), 10)\n",
    "    \n",
    "    bas_x = v_ramer_x[-1] + np.linspace(0, -100*np.cos(beta - omega), 10)\n",
    "    bas_y = v_ramer_y[-1] + np.linspace(0, -100*np.sin(beta - omega), 10)\n",
    "    \n",
    "    return haut_x, haut_y, bas_x, bas_y\n",
    "\n",
    "\n",
    "def fleches_courant(v_courant_x, v_courant_y):\n",
    "    haut_x = v_courant_x[-1] + np.linspace(0, +100*np.cos(np.pi + omega), 10)\n",
    "    haut_y = v_courant_y[-1] + np.linspace(0, +100*np.sin(np.pi + omega), 10)\n",
    "    \n",
    "    bas_x = v_courant_x[-1] + np.linspace(0, +100*np.cos(np.pi - omega), 10)\n",
    "    bas_y = v_courant_y[-1] + np.linspace(0, +100*np.sin(np.pi - omega), 10)\n",
    "    \n",
    "    return haut_x, haut_y, bas_x, bas_y\n",
    "\n",
    "\n",
    "def fleches_rive(v_courant_x, v_courant_y, alpha):\n",
    "    haut_x = v_courant_x[-1] - np.linspace(0, 100*np.cos(alpha + omega), 10)\n",
    "    haut_y = v_courant_y[-1] - np.linspace(0, 100*np.sin(alpha + omega), 10)\n",
    "    \n",
    "    bas_x = v_courant_x[-1] - np.linspace(0, 100*np.cos(alpha - omega), 10)\n",
    "    bas_y = v_courant_y[-1] - np.linspace(0, 100*np.sin(alpha - omega), 10)\n",
    "    \n",
    "    return haut_x, haut_y, bas_x, bas_y\n"
   ]
  },
  {
   "cell_type": "markdown",
   "metadata": {},
   "source": [
    "#### Flèches des vecteurs "
   ]
  },
  {
   "cell_type": "code",
   "execution_count": null,
   "metadata": {},
   "outputs": [],
   "source": [
    "# flèches vecteur vitesse ramer\n",
    "r_haut_x, r_haut_y, r_bas_x, r_bas_y = fleches_ramer(v_ramer_x, v_ramer_y, beta)\n",
    "\n",
    "fleche_haut_ramer = p.line(r_haut_x, r_haut_y, color='#D94D31', line_width=1.5)\n",
    "fleche_bas_ramer = p.line(r_bas_x, r_bas_y, color='#D94D31', line_width=1.5)\n",
    "\n",
    "\n",
    "# flèches vecteur vitesse courant\n",
    "c_haut_x, c_haut_y, c_bas_x, c_bas_y = fleches_courant(v_courant_x, v_courant_y)\n",
    "\n",
    "fleche_haut_courant = p.line(c_haut_x, c_haut_y, color='#130f78', line_width=1.5)\n",
    "fleche_bas_courant = p.line(c_bas_x, c_bas_y, color='#130f78', line_width=1.5)\n",
    "\n",
    "# flèches vecteur vitesse par raport à la rive\n",
    "riv_haut_x, riv_haut_y, riv_bas_x, riv_bas_y = fleches_rive(v_courant_x, v_courant_y, alpha)\n",
    "\n",
    "fleche_haut_v_rive = p.line(riv_haut_x, riv_haut_y, color='#40ba2d', line_width=1.5)\n",
    "fleche_bas_v_rive = p.line(riv_bas_x, riv_bas_y, color='#40ba2d', line_width=1.5)"
   ]
  },
  {
   "cell_type": "markdown",
   "metadata": {},
   "source": [
    "#### Trajectoires"
   ]
  },
  {
   "cell_type": "code",
   "execution_count": null,
   "metadata": {},
   "outputs": [],
   "source": [
    "# trajectoire dans l'eau\n",
    "trajectoire_eau = p.line(np.linspace(0, d*100, 10), np.linspace(0, l, 10),\\\n",
    "              color='#ccce2b', line_width=6, alpha=0.5, line_dash='dashed')\n",
    "\n",
    "# trajectoire course\n",
    "trajectoire_course = p.line(np.linspace(0, d*100, 10), np.linspace(l, l, 10),\\\n",
    "                           color='#2f4fec', line_width=6, alpha=0.9, line_dash='dotdash')"
   ]
  },
  {
   "cell_type": "code",
   "execution_count": null,
   "metadata": {},
   "outputs": [],
   "source": [
    "# légende\n",
    "legend1 = Legend(items=[(\"Vitesse par rapport au courant\", [vit_ramer, fleche_haut_ramer, fleche_bas_ramer]),\n",
    "                      (\"Vitesse du courant\", [vit_courant, fleche_haut_courant, fleche_bas_courant]),\n",
    "                      (\"Vitesse par rapport à la rive\", [vit_rive, fleche_haut_v_rive, fleche_bas_v_rive])])\n",
    "legend2 = Legend(items=[('Trajectoire Eau', [trajectoire_eau]),('Trajectoire Course', [trajectoire_course]), ('Point Initial', [A]), \n",
    "                       ('Point Final', [B]), (\"Point d'Arrivé\", [p_arrive])])\n",
    "\n",
    "p.add_layout(legend1, 'below')\n",
    "p.add_layout(legend2, 'below')\n",
    "p.legend.orientation = 'horizontal'"
   ]
  },
  {
   "cell_type": "markdown",
   "metadata": {},
   "source": [
    "### Temps"
   ]
  },
  {
   "cell_type": "code",
   "execution_count": null,
   "metadata": {},
   "outputs": [],
   "source": [
    "p_temps = figure(title=\"Temps\", height=200, width=980, y_range=(-10, 10), x_range=(0,3000), \n",
    "           background_fill_color='#ffffff', toolbar_location=None)\n",
    "\n",
    "p_temps.yaxis.visible = False\n",
    "p_temps.xaxis.axis_label = 'Temps [s]'\n",
    "\n",
    "# calculer temps \n",
    "temps_ramer = p_temps.line(np.linspace(0, t_r, 2), [0]*2,color='#6DD3DB', line_width=25, name='Temps ramer')\n",
    "temps_course = p_temps.line(np.linspace(t_r, t_total, 2), [0]*2,color='#4a8d5c', line_width=25, name='Temps course')\n",
    "\n",
    "# légend\n",
    "l_temps = Legend(items=[('Temps navigation [s]', [temps_ramer]), ('Temps courant [s]', [temps_course])])\n",
    "\n",
    "p_temps.add_layout(l_temps)\n",
    "p.ygrid.visible = False\n",
    "p_temps.legend.orientation = 'horizontal'"
   ]
  },
  {
   "cell_type": "markdown",
   "metadata": {},
   "source": [
    "### Fonction pour mettre à jour la figure"
   ]
  },
  {
   "cell_type": "code",
   "execution_count": null,
   "metadata": {},
   "outputs": [],
   "source": [
    "\n",
    "# mettre à jour \n",
    "def update(beta):\n",
    "    beta = np.pi*beta/180\n",
    "    \n",
    "    # mettre à jour vitesse\n",
    "    v_ramer_x, v_ramer_y = v_ramer_(beta, v_ramer)\n",
    "    v_courant_x = v_ramer_x[-1] + np.linspace(0, 200*v_courant, 10)\n",
    "    v_courant_y = [v_ramer_y[-1]]*10\n",
    "    alpha = np.arctan2(v_courant_y[-1],v_courant_x[-1])\n",
    "\n",
    "    \n",
    "    # mettre à jour temps\n",
    "    t = t_course(v_courant, v_ramer, beta) + t_ramer(v_ramer, beta)\n",
    "\n",
    "    point_arrive = (v_courant + v_ramer*np.cos(beta))*t_ramer(v_ramer,beta)\n",
    "    \n",
    "    temps_ramer.data_source.data['x'] = np.linspace(0,t_ramer(v_ramer,beta), 2)\n",
    "    temps_course.data_source.data['x'] = np.linspace(t_ramer(v_ramer,beta), t, 2)\n",
    "    \n",
    "    # vecteur vitesse ramer\n",
    "    vit_ramer.data_source.data['x'] = v_ramer_x\n",
    "    vit_ramer.data_source.data['y'] = v_ramer_y\n",
    "    \n",
    "    # flèches du vecteur vitesse ramer\n",
    "    r_haut_x, r_haut_y, r_bas_x, r_bas_y = fleches_ramer(v_ramer_x, v_ramer_y, beta)\n",
    "    \n",
    "    fleche_haut_ramer.data_source.data['x'] = r_haut_x\n",
    "    fleche_haut_ramer.data_source.data['y'] = r_haut_y\n",
    "    fleche_bas_ramer.data_source.data['x'] = r_bas_x\n",
    "    fleche_bas_ramer.data_source.data['y'] = r_bas_y\n",
    "    \n",
    "    # vecteur vitesse courant\n",
    "    vit_courant.data_source.data['x'] = v_courant_x\n",
    "    vit_courant.data_source.data['y'] = v_courant_y\n",
    "    \n",
    "    # flèches de vectuer vitesse courant \n",
    "    c_haut_x, c_haut_y, c_bas_x, c_bas_y = fleches_courant(v_courant_x, v_courant_y)\n",
    "    \n",
    "    fleche_haut_courant.data_source.data['x'] = c_haut_x\n",
    "    fleche_haut_courant.data_source.data['y'] = c_haut_y\n",
    "    fleche_bas_courant.data_source.data['x'] = c_bas_x\n",
    "    fleche_bas_courant.data_source.data['y'] = c_bas_y\n",
    "    \n",
    "    # vecteur vitesse rive\n",
    "    vit_rive.data_source.data['x'] = np.linspace(0, v_courant_x[-1], 10)\n",
    "    vit_rive.data_source.data['y'] = np.linspace(0, v_courant_y[-1], 10)\n",
    "    \n",
    "    riv_haut_x, riv_haut_y, riv_bas_x, riv_bas_y = fleches_rive(v_courant_x, v_courant_y, alpha)\n",
    "    \n",
    "    fleche_haut_v_rive.data_source.data['x'] =  riv_haut_x\n",
    "    fleche_haut_v_rive.data_source.data['y'] = riv_haut_y\n",
    "    fleche_bas_v_rive.data_source.data['x'] = riv_bas_x\n",
    "    fleche_bas_v_rive.data_source.data['y'] = riv_bas_y\n",
    "    \n",
    "    p_arrive.data_source.data['x'] = [point_arrive]\n",
    "    \n",
    "    trajectoire_eau.data_source.data['x'] = np.linspace(0, point_arrive, 10)\n",
    "    trajectoire_course.data_source.data['x'] = np.linspace(0, point_arrive, 10)\n",
    "    \n",
    "    print('Temps de navigation:\\t\\t{:0.1f} [s]'.format(t_ramer(v_ramer,beta)))\n",
    "    print('Temps de course sur la rive:\\t{:0.1f} [s]'.format(abs(t_course(v_courant, v_ramer, beta))))\n",
    "    print('Temps total:\\t\\t\\t{:0.1f} [s]'.format(t))\n",
    "    \n",
    "    push_notebook()\n",
    "   \n",
    "\n"
   ]
  },
  {
   "cell_type": "markdown",
   "metadata": {},
   "source": [
    "### Tracé"
   ]
  },
  {
   "cell_type": "code",
   "execution_count": null,
   "metadata": {},
   "outputs": [],
   "source": [
    "f_plot = gridplot([[p], [p_temps]])\n",
    "show(f_plot, notebook_handle=True)\n",
    "interact(update,\\\n",
    "         beta=widgets.FloatSlider(min=70,max=160,step=1,value=90, description='$Beta$:')); "
   ]
  },
  {
   "cell_type": "markdown",
   "metadata": {},
   "source": [
    "### Analyse du temps en fonction de l'angle beta"
   ]
  },
  {
   "cell_type": "code",
   "execution_count": null,
   "metadata": {},
   "outputs": [],
   "source": [
    "import matplotlib.pyplot as plt"
   ]
  },
  {
   "cell_type": "code",
   "execution_count": null,
   "metadata": {},
   "outputs": [],
   "source": [
    "v_ramer = 1.5 # vitesse à la rame (m/s)\n",
    "v_course = 3.0 # vitesse à la course (m/s)\n",
    "\n",
    "angle_beta_grad = np.linspace(60, 160, 99)\n",
    "\n",
    "temps_ramer_beta = t_ramer(v_ramer, angle_beta_grad*np.pi/180)\n",
    "temps_course_beta = abs(t_course(v_courant, v_ramer, angle_beta_grad*np.pi/180) )\n",
    "\n",
    "temps_total_beta = temps_ramer_beta + temps_course_beta\n",
    "\n",
    "t_ramer_idx = np.argmin(temps_ramer_beta)\n",
    "t_course_idx = np.argmin(temps_course_beta)\n",
    "t_total_idx = np.argmin(temps_total_beta)\n",
    "\n",
    "# Graphique temps vs. angle beta\n",
    "plt.figure(figsize=(14,7))\n",
    "plt.plot(angle_beta_grad, temps_ramer_beta, color='green', linestyle='dashed', linewidth=2)\n",
    "plt.plot(angle_beta_grad, temps_course_beta, color='blue', linestyle='dashed', linewidth=2)\n",
    "plt.plot(angle_beta_grad, temps_total_beta, color='red', linewidth=2)\n",
    "\n",
    "plt.plot(angle_beta_grad[t_ramer_idx], temps_ramer_beta[t_ramer_idx], color='green', marker='o', ms=8)\n",
    "plt.plot(angle_beta_grad[t_course_idx], temps_course_beta[t_course_idx], color='blue', marker='o', ms=8)\n",
    "plt.plot(angle_beta_grad[t_total_idx], temps_total_beta[t_total_idx], color='red', marker='o', ms=8)\n",
    "\n",
    "\n",
    "plt.legend(['Temps traversée à la rame', 'Temps de course', 'Temps total'])\n",
    "plt.grid(True)\n",
    "plt.xlabel('Angle beta [º]')\n",
    "plt.ylabel('Temps [s]')\n",
    "plt.title('Temps vs Beta.\\n (Vitesse Ramer = 1.5[m/s]. Vitesse Course = 3.0 [m/s])')\n",
    "plt.show()\n",
    "\n",
    "print(\"Beta pour le temps minimum à la rame {:0.1f}[º]. \\n\\\n",
    "Temps ramer: {:0.1f}[s].\\tTemps course: {:0.1f}[s].\\tTemps total: {:0.1f}[s]\\n\".format(angle_beta_grad[t_ramer_idx], \n",
    "temps_ramer_beta[t_ramer_idx], temps_course_beta[t_ramer_idx], temps_total_beta[t_ramer_idx]))\n",
    "\n",
    "print(\"Beta pour le temps minimum de course {:0.1f}[º]. \\n\\\n",
    "Temps ramer: {:0.1f}[s].\\tTemps course: {:0.1f}[s].\\tTemps total: {:0.1f}[s]\\n\".format(angle_beta_grad[t_course_idx], \n",
    "temps_ramer_beta[t_course_idx], temps_course_beta[t_course_idx], temps_total_beta[t_course_idx]))\n",
    "\n",
    "print(\"Beta pour le temps minimum total {:0.1f}[º]. \\n\\\n",
    "Temps ramer: {:0.1f}[s].\\tTemps course: {:0.1f}[s].\\tTemps total: {:0.1f}[s]\\n\".format(angle_beta_grad[t_total_idx], \n",
    "temps_ramer_beta[t_total_idx], temps_course_beta[t_total_idx], temps_total_beta[t_total_idx]))"
   ]
  },
  {
   "cell_type": "markdown",
   "metadata": {},
   "source": [
    "### Calcul analytique 2"
   ]
  },
  {
   "cell_type": "markdown",
   "metadata": {},
   "source": [
    "Le temps total est une fonction de $\\beta$:\n",
    "\n",
    "$$t_{tot}=\\frac l{v'\\sin\\beta}+l\\frac{v_c+v'\\cos\\beta}{v'\\sin\\beta}\\frac1{v_{course}}=l\\left[\\frac{v_{course}+v_c+v'\\cos\\beta}{v_{course}\\cdot v'\\sin\\beta}\\right]$$\n",
    "\n",
    "On cherche à la minimiser en fonction de $\\beta$:\n",
    "\n",
    "$$\\frac{\\text dt_{tot}}{\\text d\\beta}=l\\cdot\\frac{-v_{course}v'\\sin\\beta\\cdot v'\\sin\\beta-v_{course}v'\\cos\\beta\\left[v_{course}+v_c+v'\\cos\\beta\\right]}{\\left[v_{course}\\cdot v'\\sin\\beta\\right]^2}=f(\\beta)$$\n",
    "\n",
    "et on cherche $f(\\beta)=0$.\n",
    "\n",
    "\\begin{align*}\n",
    "-v'^2v_{course}\\sin^2\\beta-v'v_{course}^2\\cos\\beta\n",
    "-v_cv'v_{course}\\cos\\beta-v_{course}v'^2\\cos^2\\beta&=0\\\\\n",
    "\\end{align*}\n",
    "\n",
    "$$\\cos\\beta=\\frac{-v'}{v_c+v_{course}}$$\n",
    "A.N.: $\\beta=1.98$ (équivalent à 113.2°,  soit 23.2° vers l'amont). Le temps de course sera alors de 80.5 s et la traversée de 1160 s, soit un temps total de 1241.5 s (20.7 min)."
   ]
  },
  {
   "cell_type": "markdown",
   "metadata": {},
   "source": [
    "# Demo: Variation des vitesses "
   ]
  },
  {
   "cell_type": "code",
   "execution_count": null,
   "metadata": {},
   "outputs": [],
   "source": [
    "def update2(beta, v_course, v_ramer, v_courant):\n",
    "    beta = np.pi*beta/180\n",
    "    \n",
    "    # mettre à jour vitesse\n",
    "    v_ramer_x = np.linspace(0, 200*np.cos(beta)*v_ramer, 10)\n",
    "    v_ramer_y = np.linspace(0, 200*np.sin(beta)*v_ramer, 10)\n",
    "    v_courant_x = v_ramer_x[-1] + np.linspace(0, 200*v_courant, 10)\n",
    "    v_courant_y = [v_ramer_y[-1]]*10\n",
    "    \n",
    "    alpha = np.arctan2(v_courant_y[-1],v_courant_x[-1])\n",
    "\n",
    "    \n",
    "    # mettre à jour temps\n",
    "    t_r = t_ramer(v_ramer, beta)\n",
    "    t_c = t_course(v_courant, v_ramer, beta)\n",
    "    t = t_c + t_r\n",
    "\n",
    "    point_arrive = (v_courant + v_ramer*np.cos(beta))*t_r\n",
    "    \n",
    "    temps_ramer.data_source.data['x'] = np.linspace(0,t_r, 2)\n",
    "    temps_course.data_source.data['x'] = np.linspace(t_r, t, 2)\n",
    "    \n",
    "    # vecteur vitesse ramer\n",
    "    vit_ramer.data_source.data['x'] = v_ramer_x\n",
    "    vit_ramer.data_source.data['y'] = v_ramer_y\n",
    "    \n",
    "    # flèches du vecteur vitesse ramer\n",
    "    r_haut_x, r_haut_y, r_bas_x, r_bas_y = fleches_ramer(v_ramer_x, v_ramer_y, beta)\n",
    "    \n",
    "    fleche_haut_ramer.data_source.data['x'] = r_haut_x\n",
    "    fleche_haut_ramer.data_source.data['y'] = r_haut_y\n",
    "    fleche_bas_ramer.data_source.data['x'] = r_bas_x\n",
    "    fleche_bas_ramer.data_source.data['y'] = r_bas_y\n",
    "    \n",
    "    # vecteur vitesse courant\n",
    "    vit_courant.data_source.data['x'] = v_courant_x\n",
    "    vit_courant.data_source.data['y'] = v_courant_y\n",
    "    \n",
    "    # flèches de vectuer vitesse courant \n",
    "    c_haut_x, c_haut_y, c_bas_x, c_bas_y = fleches_courant(v_courant_x, v_courant_y)\n",
    "    \n",
    "    fleche_haut_courant.data_source.data['x'] = c_haut_x\n",
    "    fleche_haut_courant.data_source.data['y'] = c_haut_y\n",
    "    fleche_bas_courant.data_source.data['x'] = c_bas_x\n",
    "    fleche_bas_courant.data_source.data['y'] = c_bas_y\n",
    "    \n",
    "    # vecteur vitesse rive\n",
    "    vit_rive.data_source.data['x'] = np.linspace(0, v_courant_x[-1], 10)\n",
    "    vit_rive.data_source.data['y'] = np.linspace(0, v_courant_y[-1], 10)\n",
    "    \n",
    "    riv_haut_x, riv_haut_y, riv_bas_x, riv_bas_y = fleches_rive(v_courant_x, v_courant_y, alpha)\n",
    "    \n",
    "    fleche_haut_v_rive.data_source.data['x'] =  riv_haut_x\n",
    "    fleche_haut_v_rive.data_source.data['y'] = riv_haut_y\n",
    "    fleche_bas_v_rive.data_source.data['x'] = riv_bas_x\n",
    "    fleche_bas_v_rive.data_source.data['y'] = riv_bas_y\n",
    "    \n",
    "    p_arrive.data_source.data['x'] = [point_arrive]\n",
    "    \n",
    "    trajectoire_eau.data_source.data['x'] = np.linspace(0, point_arrive, 10)\n",
    "    trajectoire_course.data_source.data['x'] = np.linspace(0, point_arrive, 10)\n",
    "    \n",
    "    print('Temps de navigation:\\t\\t{:0.1f} [s]'.format(t_r))\n",
    "    print('Temps de course sur la rive:\\t{:0.1f} [s]'.format(abs(t_c)))\n",
    "    print('Temps total:\\t\\t\\t{:0.1f} [s]'.format(t))\n",
    "    \n",
    "    push_notebook()\n",
    "    \n",
    "    \n",
    "    \n",
    "f_plot = gridplot([[p], [p_temps]])\n",
    "show(f_plot, notebook_handle=True)\n",
    "interact(update2,\\\n",
    "         beta=widgets.FloatSlider(min=90,max=179,step=1,value=113.2, description='$Beta$:'), \\\n",
    "        v_course=widgets.FloatSlider(min=0.5,max=5.0,step=0.05,value=3.0, description='$v_{course} [m/s]$:'),\\\n",
    "        v_ramer=widgets.FloatSlider(min=0.5,max=5,step=0.05,value=1.5, description='$v_{rame} [m/s]$:'),\\\n",
    "        v_courant=widgets.FloatSlider(min=0.1,max=3,step=0.05,value=0.8, description='$v_{c} [m/s]$:') ); \n",
    "         "
   ]
  },
  {
   "cell_type": "markdown",
   "metadata": {},
   "source": [
    "# Feedback"
   ]
  },
  {
   "cell_type": "code",
   "execution_count": null,
   "metadata": {},
   "outputs": [],
   "source": [
    "from IPython.display import IFrame\n",
    "IFrame('https://www.surveymonkey.com/r/NOTOSURVEY?notebook_set=MecaDRIL&notebook_id=01-Logan', 600, 800)"
   ]
  },
  {
   "cell_type": "markdown",
   "metadata": {},
   "source": [
    "Notebook by Cécile Hébert (2018-2023). Except where otherwise noted, the content of this notebook is licensed under MIT licence."
   ]
  }
 ],
 "metadata": {
  "hide_input": false,
  "kernelspec": {
   "display_name": "Python 3 (ipykernel)",
   "language": "python",
   "name": "python3"
  },
  "language_info": {
   "codemirror_mode": {
    "name": "ipython",
    "version": 3
   },
   "file_extension": ".py",
   "mimetype": "text/x-python",
   "name": "python",
   "nbconvert_exporter": "python",
   "pygments_lexer": "ipython3",
   "version": "3.9.15"
  }
 },
 "nbformat": 4,
 "nbformat_minor": 2
}
