{
 "cells": [
  {
   "cell_type": "markdown",
   "metadata": {},
   "source": [
    "# EXPERIENCE DE LA BILLE SUR GLISSIÈRE"
   ]
  },
  {
   "cell_type": "code",
   "execution_count": null,
   "metadata": {},
   "outputs": [],
   "source": [
    "import urllib\n",
    "import os\n",
    "from jupyter_server import serverapp\n",
    "\n",
    "import matplotlib.pyplot as plt\n",
    "import numpy as np\n",
    "import pandas as pd\n",
    "import math\n",
    "\n",
    "import io\n",
    "import base64\n",
    "import ipywidgets as widgets\n",
    "from ipywidgets import interact, interactive, fixed, interact_manual, Label, VBox\n",
    "from IPython.display import HTML, Video, IFrame\n",
    "\n",
    "from bokeh.plotting import figure, curdoc\n",
    "from bokeh.models.widgets import Slider, CheckboxButtonGroup, PreText\n",
    "from bokeh.layouts import row, column\n",
    "#from bokeh.models.widgets import widgetbox\n",
    "from bokeh.models import ColumnDataSource, Slider, Button, TextInput, Arrow, OpenHead, NormalHead, VeeHead\n",
    "from bokeh.plotting import figure, show, ColumnDataSource\n",
    "\n",
    "from bokeh.io import output_notebook, show, export_png\n",
    "\n",
    "output_notebook()\n"
   ]
  },
  {
   "cell_type": "markdown",
   "metadata": {},
   "source": [
    "## Le problème :"
   ]
  },
  {
   "cell_type": "markdown",
   "metadata": {},
   "source": [
    "Une bille est lâchée dans une glissière qui forme un looping. Si elle n'est pas lâchée d'une hauteur suffisante, elle ne complète pas le looping. De quelle hauteur faut-il la lâcher pour qu'elle complète le looping ?"
   ]
  },
  {
   "cell_type": "markdown",
   "metadata": {},
   "source": [
    "## Importer les vidéos et données\n",
    "\n",
    "Trois vidéos montrent l'expérience; on peut choisir entre trois hauteurs initiales de lâcher de la bille"
   ]
  },
  {
   "cell_type": "code",
   "execution_count": null,
   "metadata": {},
   "outputs": [],
   "source": [
    "# Input\n",
    "height_label = Label('Choisir une hauteur initiale:')\n",
    "height_input = widgets.Dropdown(options=['h1', 'h3', 'h5'], value=None, \n",
    "disabled=False,)\n",
    "\n",
    "# Output\n",
    "text_output = widgets.Output()\n",
    "video_output = widgets.Output()\n",
    "with video_output: print(\"La vidéo s'affichera ici.\")\n",
    "\n",
    "def height_event_handler(change):\n",
    "     # Récuperer le nom de la vidéo choisie\n",
    "    h = change.new\n",
    "\n",
    "     # Effacer les outputs\n",
    "    text_output.clear_output()\n",
    "    video_output.clear_output()\n",
    "\n",
    "     # Importer des données de la video\n",
    "    df_vid = pd.read_csv('data_bille/'+h+'-data.csv', index_col=0)\n",
    "    df_vid = df_vid.rename({'VideoAnalysis: X (cm)': 'x', \n",
    "'VideoAnalysis: Y (cm)':'y', 'VideoAnalysis: X Velocity (cm/s)':'v_x', \n",
    "'VideoAnalysis: Y Velocity (cm/s)':'v_y'},\n",
    "                            axis='columns')\n",
    "\n",
    "     # Calculer hauteur initiale\n",
    "    y_min_vid = df_vid['y'].min()\n",
    "    h_init = df_vid['y'].iloc[0] - y_min_vid\n",
    "\n",
    "    R = 11.62\n",
    "\n",
    "     # Afficher la hauteur initiale\n",
    "    with text_output:\n",
    "        print('Hauteur initiale choisie: {} = {:0.2f}[cm].{:0.2f}R'.format(h,h_init, h_init/R))\n",
    "\n",
    "     # Afficher la vidéo\n",
    "    with video_output:\n",
    "        display(Video('data_bille/{}-dots.mov'.format(h)))\n",
    "\n",
    "# Observer les changements sur le choix de la hauteur\n",
    "height_input.observe(height_event_handler, names='value')\n",
    "# Afficher le tout\n",
    "display(VBox([height_label, height_input, text_output, video_output]));"
   ]
  },
  {
   "cell_type": "markdown",
   "metadata": {},
   "source": [
    "## Détail des calculs et de la modélisation"
   ]
  },
  {
   "cell_type": "code",
   "execution_count": null,
   "metadata": {},
   "outputs": [],
   "source": [
    "from IPython.display import Image\n",
    "Image(\"Glissiere.png\")"
   ]
  },
  {
   "cell_type": "markdown",
   "metadata": {},
   "source": [
    "On lâche la bille d'une hauteur h et on observe son comportement au point P en supposant qu'elle suit jusqu'en P la trajectoire imposée par la glissière. On prend $P$ dans le quart supérieur droit de la glissière ($\\theta >0$)"
   ]
  },
  {
   "cell_type": "markdown",
   "metadata": {},
   "source": [
    "### 1. On cherche la norme de $\\vec v$ au point P: $v_p$"
   ]
  },
  {
   "cell_type": "markdown",
   "metadata": {},
   "source": [
    "La conservation de l'énergie donne: \n",
    "$$mgh = mgy_{p} + \\frac{1}{2}mv_{p}^{2}$$\n",
    "\n",
    "$$y_p = R ( 1 + \\sin\\theta)$$\n",
    "\n",
    "$$v_p = \\sqrt{2g[h - R ( 1 + \\sin\\theta)]}$$\n",
    "\n",
    "Un calcul plus juste tient compte de l'énergie de rotation de la bille. Dans ce cas la conservation de l'énergie devient: \n",
    "$$mgh = mgy_p + \\frac{1}{2}mv_{p}^{2} + \\frac{1}{2}Iw_{p}^{2}$$\n",
    "\n",
    "$$I = \\frac{2}{5}mr^2$$\n",
    "\n",
    "$$w_p = \\frac{v_p}{r}$$  avec r le rayon de la bille \n",
    "\n",
    "$$mgh = mgy_p + \\frac{1}{2}mv_{p}^{2} + \\frac{1}{2}\\frac{2}{5}mr^2\\frac{v_p^2}{r^2}$$\n",
    "\n",
    "$$gh = gR(1 + \\sin\\theta) + \\frac{7}{10}v_p^2$$\n",
    "\n",
    "$$v_p = \\sqrt{\\frac{10}{7}g[h - R(1 + \\sin\\theta)]}$$\n",
    "\n",
    "de manière générale, on peut donc écrire\n",
    "\n",
    "$$v_p = \\sqrt{A g[h - R(1 + \\sin\\theta)]}$$\n",
    "\n",
    "Avec $A$ un facteur qui vaut 2 pour un objet qui glisse et $\\frac{10}{7}$ pour une sphère homogène qui roule sans glisser.\n"
   ]
  },
  {
   "cell_type": "markdown",
   "metadata": {},
   "source": [
    "### 2. On cherche les composantes du vecteur $\\vec v_p$"
   ]
  },
  {
   "cell_type": "markdown",
   "metadata": {},
   "source": [
    "La direction du vecteur vitesse en P s'obtient par le fait qu'il est tangent à la glissière\n",
    "\n",
    "$$\\vec v=\\begin{pmatrix}-v_p\\sin\\theta\\\\v_p\\cos\\theta \\end{pmatrix}$$"
   ]
  },
  {
   "cell_type": "markdown",
   "metadata": {},
   "source": [
    "### 3. On calcule la trajectoire parabolique qu'aurait une bille libre dans le champ de pesanteur si elle était lancée en P avec $\\vec v_p$."
   ]
  },
  {
   "cell_type": "markdown",
   "metadata": {},
   "source": [
    "$$\\vec r_P=\\begin{pmatrix}-v_p\\sin\\theta \\, t + R \\cos \\theta \\\\-\\frac{1}{2} g t^2 + v_p\\cos\\theta \\, t \n",
    "+ R (1+\\sin \\theta)\n",
    "\\end{pmatrix}$$"
   ]
  },
  {
   "cell_type": "markdown",
   "metadata": {},
   "source": [
    "### 4. Analyse des forces exercées sur la bille en P."
   ]
  },
  {
   "cell_type": "markdown",
   "metadata": {},
   "source": [
    "Les forces sont le poids $\\vec P$ et la réaction de la glissière $\\vec N$"
   ]
  },
  {
   "cell_type": "markdown",
   "metadata": {},
   "source": [
    "$$ \\vec P = m \\vec g = - mg \\vec e_y $$ \n",
    "\n",
    "$$ \\vec N = N \\vec n$$ \n",
    "avec $\\vec n$ vecteur normal au support pointant vers le centre du cercle. "
   ]
  },
  {
   "cell_type": "markdown",
   "metadata": {},
   "source": [
    "$\\vec N$ est forcément dirigée vers le centre du cercle donc $N \\geq 0$. \n",
    "\n",
    "$N <0$ impliquerait que la glissière attire la bille. "
   ]
  },
  {
   "cell_type": "markdown",
   "metadata": {},
   "source": [
    "Au point P, \n",
    "$$ \\sum \\vec F = m \\vec a = m \\frac{v_p^2}{R}\\vec n + m \\left ( \\frac{\\mathrm{d} v}{\\mathrm{d} t} \\right )\\vec \\tau = -mg\\vec e_y + N\\vec n$$"
   ]
  },
  {
   "cell_type": "markdown",
   "metadata": {},
   "source": [
    "Projeté sur $\\vec n $, on obtient, \n",
    "\n",
    "$$m g \\sin \\theta  + N = m \\frac{v_P^2}{R}$$\n",
    "\n",
    "$$N= m(\\frac{v_P^2}{R} - g \\sin \\theta)$$\n",
    "\n",
    "$$N= m g \\Big(A \\frac{h}{R} - A (1 + \\sin\\theta) -  \\sin \\theta \\Big)$$"
   ]
  },
  {
   "cell_type": "markdown",
   "metadata": {},
   "source": [
    "On remarque donc que si $h$ n'est pas assez grand, $N$ va devenir négatif pour un $\\theta < \\frac{\\pi}{2}$. Cela signifie que au point P, la bille devrait être attiré par la glissière pour rester dessus... elle décolle. "
   ]
  },
  {
   "cell_type": "markdown",
   "metadata": {},
   "source": [
    "## Tracé de la figure "
   ]
  },
  {
   "cell_type": "markdown",
   "metadata": {},
   "source": [
    "### Paramètres pour la figure"
   ]
  },
  {
   "cell_type": "code",
   "execution_count": null,
   "metadata": {},
   "outputs": [],
   "source": [
    "# Définition de l' image de fond\n",
    "import base64\n",
    "\n",
    "def file2src(filename, data_type='image/png'):\n",
    "    with open(filename, \"rb\") as image_file:\n",
    "        data = base64.b64encode(image_file.read())\n",
    "    image_file.close()\n",
    "    return 'data:{};base64,{}'.format(data_type, data.decode())\n",
    "\n",
    "# Définition de l'image de fond\n",
    "img_path = file2src(\"data_bille/background.png\")\n",
    "\n",
    "# Import des données du video\n",
    "df = pd.read_csv('data_bille/data-05-04-19.csv', index_col=0)\n",
    "df = df.rename({'VideoAnalysis: X (cm)': 'x', 'VideoAnalysis: Y (cm)':'y',\n",
    "       'VideoAnalysis: X Velocity (cm/s)':'v_x', 'VideoAnalysis: Y Velocity (cm/s)':'v_y'}, axis='columns')\n",
    "\n",
    "# Calculer les limites  \n",
    "y_min = df['y'].min()\n",
    "x_min = df['x'].min()\n",
    "x_max = df['x'].max()\n",
    "x_lowest = df.loc[df['y'] == y_min]['x'].iloc[0]\n",
    "\n",
    "# Calculer le rayon de la boucle\n",
    "df_h = df.loc[df['x'] < 20]\n",
    "df_h = df_h.loc[df_h['x'] > -20]\n",
    "R = df_h['y'].max() - df_h['y'].min()\n",
    "idx = df_h.loc[df_h['y'] == df_h['y'].min()]\n",
    "R = R/2"
   ]
  },
  {
   "cell_type": "markdown",
   "metadata": {},
   "source": [
    "### Équations et paramètres initiaux"
   ]
  },
  {
   "cell_type": "code",
   "execution_count": null,
   "metadata": {},
   "outputs": [],
   "source": [
    "# Choissir A: 2 ou 10/7\n",
    "A = 10/7\n",
    "\n",
    "# Définir parametres initiaux\n",
    "g = 9.81 # pesanteur\n",
    "h = 2*R # diamètre\n",
    "theta = 20 # angle par rapport à l'horizontale\n",
    "to_rad = lambda x: np.pi*x/180.0\n",
    "thetarad = to_rad(theta)\n",
    "\n",
    "t = np.linspace(0, 2, 100) #  temps après  que la bille  est  arrivéee en P (tracé parabole)\n",
    "neg_t = np.linspace(0, -1, 100) #  temps avant que la bille soit arrivéee en P (tracé parabole)\n",
    "\n",
    "# Eq. parametrique de la parabole\n",
    "x_p = lambda v, ang, t: -v*np.sin(ang)*t + R*np.cos(ang)\n",
    "y_p = lambda v, ang, t: -0.5*g*t*t + v*np.cos(ang)*t + R*(1 + np.sin(ang))\n",
    "\n",
    "# Définition du vecteur vitesse (tracé depuis P)\n",
    "vx = lambda v, ang: np.linspace(x_p(v, ang, t)[0], x_p(v, ang, t)[0] - 0.5*v*np.sin(ang), 10) \n",
    "vy = lambda v, ang: np.linspace(y_p(v, ang, t)[0], y_p(v, ang, t)[0] + 0.5*v*np.cos(ang), 10) \n",
    "\n",
    "# Define equations\n",
    "vitesse_p = lambda h, A, theta_rad: math.sqrt(A*g*R*(h - (1 + np.sin(theta_rad)))) #Vitesse au point A\n",
    "normale_p = lambda hsurR, A, angle: g*(A*hsurR-A*(1+np.sin(angle))-np.sin(angle)) #Force normale au point A\n"
   ]
  },
  {
   "cell_type": "markdown",
   "metadata": {},
   "source": [
    "### Figure"
   ]
  },
  {
   "cell_type": "code",
   "execution_count": null,
   "metadata": {},
   "outputs": [],
   "source": [
    "## PLOT\n",
    "\n",
    "def modify_doc(doc):\n",
    "    \n",
    "    # Définir information à visualiser\n",
    "    x = -df['x']\n",
    "    y = df['y'] - y_min\n",
    "    x0 = x.iloc[0]\n",
    "    y0 = y.iloc[0]\n",
    "\n",
    "    # Définir glissière\n",
    "    slope2 = (y.iloc[6] - y.iloc[5]) / (x.iloc[6] - x.iloc[5])\n",
    "    get_x = lambda y_ini: x0 - (y0 - y_ini)*(1/slope2)\n",
    "\n",
    "    line_ini_y = np.linspace(2, y.iloc[0], 20)\n",
    "    line_ini_x = get_x(line_ini_y)\n",
    "\n",
    "    slope = np.arctan((y.iloc[6] - y.iloc[5]) / (x.iloc[6] - x.iloc[5]))\n",
    "    line_end_x = x.iloc[-1] - np.linspace(0, 40, 20)*np.cos(-slope-0.02)\n",
    "    line_end_y = y.iloc[-1] - np.linspace(0, 40, 20)*np.sin(-slope -0.02)\n",
    "\n",
    "    angle = np.linspace(0, 2*np.pi, 100)\n",
    "    \n",
    "    # Conditions initiales \n",
    "    g = 9.81\n",
    "    h = 2.0\n",
    "    A = 10/7\n",
    "    theta = 45\n",
    "    thetarad = to_rad(theta)\n",
    "    t = np.linspace(0, 2, 100)\n",
    "    neg_t = np.linspace(0, -1, 100)\n",
    "    vit_P = vitesse_p(h,A, thetarad)\n",
    "    lwidth = 2.5 \n",
    "\n",
    "\n",
    "    def initialize(h_init, thetarad):\n",
    "        # Calculer position, vitesse et forces au point P\n",
    "        vit_P = vitesse_p(h_init, A, thetarad) # vitesse en P\n",
    "        n_P = normale_p(h_init, A, thetarad) # force normale en P\n",
    "        \n",
    "        # coordonnées parabole après point P\n",
    "        x_parab = x_p(vit_P, thetarad, t) \n",
    "        y_parab = y_p(vit_P, thetarad, t)\n",
    "        \n",
    "        # coordonnées parabole avant point P\n",
    "        x_parab_neg = x_p(vit_P, thetarad, neg_t)\n",
    "        y_parab_neg = y_p(vit_P, thetarad, neg_t)\n",
    "        \n",
    "        # vecteur force normale\n",
    "        norm_end_x = x_parab[0] - n_P*np.cos(thetarad)\n",
    "        norm_end_y =  y_parab[0] - n_P*np.sin(thetarad)\n",
    "        \n",
    "        # vecteur vitesse\n",
    "        v_x, v_y = vx(vit_P, thetarad), vy(vit_P, thetarad)\n",
    "        \n",
    "        P = {\n",
    "            'x_init': [get_x(h_init*R)], 'y_init':[h_init*R],\n",
    "            'x_point_P': [x_parab[0]], 'y_point_P': [y_parab[0]]\n",
    "        }\n",
    "        \n",
    "        CURV = {\n",
    "            'x_point_P_parab_pos': x_parab, 'y_point_P_parab_pos': y_parab,\n",
    "            'x_point_P_parab_neg': x_parab_neg, 'y_point_P_parab_neg': y_parab_neg\n",
    "        }\n",
    "        \n",
    "        ANG = {\n",
    "            'l_hor_x':np.linspace(0,R, 100), 'l_hor_y':[R]*100, \n",
    "            'l_ver_x': np.linspace(0, x_parab[0], 100), 'l_ver_y': np.linspace(R,y_parab[0],100)\n",
    "            \n",
    "        }\n",
    "        \n",
    "        FORCES = {\n",
    "            'grav_x': [x_parab[0]]*10, 'grav_y': np.linspace(y_parab[0], -9.8+y_parab[0], 10),\n",
    "            'arrow_up_grav_x': np.linspace(x_parab[0], 0.5 + x_parab[0], 10), \n",
    "            'arrow_up_grav_y': np.linspace(-9.8 + y_parab[0], 0.6 -9.8 + y_parab[0], 10),\n",
    "            'arrow_down_grav_x': np.linspace(x_parab[0], -0.5 + x_parab[0], 10), \n",
    "            'arrow_down_grav_y': np.linspace(-9.8 + y_parab[0], 0.6 -9.8 + y_parab[0], 10),\n",
    "            'norm_x': np.linspace(x_parab[0], norm_end_x, 10), 'norm_y': np.linspace(y_parab[0], norm_end_y, 10),\n",
    "            'arrow_up_norm_x':  norm_end_x  + np.linspace(0, 0.1*n_P*np.cos(thetarad - np.pi*20/180), 10), \n",
    "            'arrow_up_norm_y':  norm_end_y  + np.linspace(0, 0.1*n_P*np.sin(thetarad - np.pi*20/180), 10), \n",
    "            'arrow_down_norm_x': norm_end_x + np.linspace(0, 0.1*n_P*np.cos(thetarad + np.pi*20/180), 10), \n",
    "            'arrow_down_norm_y': norm_end_y +  np.linspace(0, 0.1*n_P*np.sin(thetarad + np.pi*20/180), 10)\n",
    "        }\n",
    "              \n",
    "        VEL = {\n",
    "            'v_x': v_x,\n",
    "            'v_y': v_y, \n",
    "            'arrow_up_vel_x': v_x[-1] + np.linspace(0, 0.1*vit_P*np.cos(thetarad - np.pi*70/180), 10),\n",
    "            'arrow_up_vel_y': v_y[-1] + np.linspace(0, 0.1*vit_P*np.sin(thetarad - np.pi*70/180), 10), \n",
    "            'arrow_down_vel_x': v_x[-1] + np.linspace(0,- 0.1*vit_P*np.cos(thetarad + np.pi*70/180), 10),\n",
    "            'arrow_down_vel_y': v_y[-1] + np.linspace(0,- 0.1*vit_P*np.sin(thetarad + np.pi*70/180), 10) \n",
    "\n",
    "        }\n",
    "    \n",
    "        return P, CURV, ANG, FORCES, VEL\n",
    "    \n",
    "  \n",
    "    # Calculer les valeurs initiales\n",
    "    P, C, ANG, FORCES, VEL = initialize(h, thetarad)\n",
    "\n",
    "    # Créer dictionnaire pour acceder aux données\n",
    "    source_P = ColumnDataSource(data = P)\n",
    "    source_C = ColumnDataSource(data = C)\n",
    "    source_ANGLE = ColumnDataSource(data = ANG)\n",
    "    source_FORCES = ColumnDataSource(data = FORCES)\n",
    "    source_VITESSE = ColumnDataSource(data= VEL)\n",
    "    \n",
    "    \n",
    "    # Figure\n",
    "    p = figure(title=\"Trajectory\", height=425, width=950, x_range=(-57,53), y_range=(-5,45),\\\n",
    "               background_fill_color='#ffffff')\n",
    "    \n",
    "    # Définir image de fond\n",
    "    p.image_url(url=[img_path], x=-56.5, y=45, w=110, h=45, alpha=0.2, angle=-np.pi*1/180)\n",
    "\n",
    "\n",
    "    # Partie fixe de la figure:\n",
    "    # Glissière\n",
    "    p.line(line_ini_x, line_ini_y, color='#635c74', alpha=0.7, line_width=2.5, legend_label='Piste')\n",
    "    p.line(R*np.sin(angle), R + R*np.cos(angle), color='#635c74', alpha=0.6, line_width=2.5, legend_label='Piste')\n",
    "    # Centre de la boucle\n",
    "    p.circle(0,R,size=3, fill_color='#635c74', line_color='#635c74', legend_label='Centre')\n",
    "\n",
    "\n",
    "    # Variables:\n",
    "    # Point initial\n",
    "    p_ini = p.circle('x_init', 'y_init', source=source_P, size=6, fill_color='#e32020', line_color='#e32020', legend_label='Point Initial')\n",
    "\n",
    "    # Point A\n",
    "    p_a = p.circle('x_point_P','y_point_P', source=source_P, size=6, \\\n",
    "                   legend_label='A', line_color='#e32020', fill_color='#e32020')\n",
    "\n",
    "    # Parabole\n",
    "    parab = p.line('x_point_P_parab_pos', 'y_point_P_parab_pos', source=source_C, color='#e32020', line_width=1.5, alpha=0.8, \\\n",
    "                   legend_label='Parabole')\n",
    "\n",
    "    parab_neg = p.line('x_point_P_parab_neg', 'y_point_P_parab_neg', source=source_C, color='#e32020', line_width=1.5, alpha=0.8, \\\n",
    "                   legend_label='Parabole')\n",
    "    \n",
    "\n",
    "    # Angle theta\n",
    "    l_h = p.line('l_hor_x', 'l_hor_y', source=source_ANGLE, line_width=lwidth, color='#000000', alpha=0.2)\n",
    "    l_v = p.line('l_ver_x', 'l_ver_y', source=source_ANGLE, line_width=lwidth ,color='#000000', alpha=0.2)\n",
    "\n",
    "    # Force gravité\n",
    "    f_g = p.line('grav_x', 'grav_y', source=source_FORCES, line_width=lwidth, color='#178717', alpha=0.8, legend_label='mg')\n",
    "    a_u_f = p.line('arrow_up_grav_x', 'arrow_up_grav_y', source=source_FORCES, line_width=lwidth, color='#178717', alpha=0.8, legend_label='mg')\n",
    "    a_d_f = p.line('arrow_down_grav_x', 'arrow_down_grav_y', source=source_FORCES, line_width=lwidth, color='#178717', alpha=0.8, legend_label='mg')\n",
    "\n",
    "    # Force normale\n",
    "    f_n = p.line('norm_x', 'norm_y', source=source_FORCES, line_width=lwidth*1.2, color='#064d06', alpha=0.8, legend_label='N')\n",
    "    a_u_n = p.line('arrow_up_norm_x', 'arrow_up_norm_y', source=source_FORCES, line_width=lwidth, color='#064d06', alpha=0.8, legend_label='N')\n",
    "\n",
    "    a_d_n = p.line('arrow_down_norm_x', 'arrow_down_norm_y', source=source_FORCES, line_width=lwidth, color='#064d06', alpha=0.8, legend_label='N')\n",
    "\n",
    "    # Vitesse\n",
    "    v = p.line('v_x', 'v_y', source=source_VITESSE, color='#01B9FF', legend_label='Vitesse', line_width=lwidth) \n",
    "    a_u = p.line('arrow_up_vel_x','arrow_up_vel_y', source=source_VITESSE, line_width=lwidth)\n",
    "    a_d = p.line('arrow_down_vel_x','arrow_down_vel_y', source=source_VITESSE, line_width=lwidth)\n",
    "    \n",
    "    \n",
    "    # Définir sliders \n",
    "    slider_h = Slider(start=2, end=3, step=0.05, value=2, title='Hauteur initiale')\n",
    "    slider_om = Slider(start=0, end=90, step=1, value=45, title='Theta')\n",
    "    \n",
    "    pre = PreText(text='Point initiale.\\tx:{:3.2f} \\ty:{:3.2f} \\nPoint A.\\tx: {:3.2f} \\ty: {:3.2f} \\nVitesse.\\t{:3.2f}[cm/s]\\tx:{:3.2f}[cm/s]\\ty:{:3.2f}[cm/s] \\nForce normale. \\t{:3.2f} [N]'\\\n",
    "                  .format(source_P.data['x_init'][0], source_P.data['y_init'][0],source_P.data['x_point_P'][0], source_P.data['y_point_P'][0], \\\n",
    "                         vit_P, -vit_P*np.cos(thetarad), vit_P*np.sin(thetarad), normale_p(h, A, thetarad)),\n",
    "    width=500, height=100)\n",
    "    \n",
    "    \n",
    "    def refresh_source(attrname, old, new):\n",
    "        \n",
    "        # Mettre à jour les valeurs à afficher \n",
    "        om = slider_om.value\n",
    "        h = slider_h.value\n",
    "        #h = h*R # hauteur par rapport au rayon\n",
    "        omrad = to_rad(om)\n",
    "\n",
    "        P, C, ANG, FORCES, VEL = initialize(h, omrad)\n",
    "        \n",
    "        source_P.data = P\n",
    "        source_C.data = C\n",
    "        source_ANGLE.data = ANG\n",
    "\n",
    "        source_FORCES.data = FORCES\n",
    "        source_VITESSE.data = VEL\n",
    "        \n",
    "        vit_P = vitesse_p(h, A, omrad)\n",
    "        x_p = source_C.data['x_point_P_parab_pos'][0]\n",
    "        y_p = source_C.data['y_point_P_parab_pos'][0]\n",
    "        \n",
    "        pre.text='Point initiale.\\tx:{:3.2f} \\ty:{:3.2f} \\nPoint A.\\tx: {:3.2f} \\ty: {:3.2f} \\nVitesse.\\t{:3.2f}[cm/s]\\tx:{:3.2f}[cm/s]\\ty:{:3.2f}[cm/s] \\nForce normale. \\t{:3.2f} [N]'\\\n",
    "                  .format(source_P.data['x_init'][0], source_P.data['y_init'][0],source_P.data['x_point_P'][0], source_P.data['y_point_P'][0], \\\n",
    "                         vit_P, -vit_P*np.sin(omrad), vit_P*np.cos(omrad), normale_p(h, A, omrad))\n",
    "        \n",
    "        \n",
    "    slider_h.on_change('value', refresh_source)\n",
    "    slider_om.on_change('value', refresh_source)\n",
    "    \n",
    "    layout = column(\n",
    "        row(p),\n",
    "        row(slider_h, slider_om),\n",
    "        row(pre)\n",
    "    )\n",
    "\n",
    "    \n",
    "    doc.add_root(layout)\n",
    "    "
   ]
  },
  {
   "cell_type": "code",
   "execution_count": null,
   "metadata": {},
   "outputs": [],
   "source": [
    "def remote_jupyter_proxy_url(port):\n",
    "    \"\"\"\n",
    "    Callable to configure Bokeh's show method when a proxy must be\n",
    "    configured.\n",
    "\n",
    "    If port is None we're asking about the URL\n",
    "    for the origin header.\n",
    "    \"\"\"\n",
    "    \n",
    "    base_url = os.environ['EXTERNAL_URL']\n",
    "    host = urllib.parse.urlparse(base_url).netloc\n",
    "\n",
    "    # If port is None we're asking for the URL origin\n",
    "    # so return the public hostname.\n",
    "    if port is None:\n",
    "        return host\n",
    "\n",
    "    service_url_path = os.environ['JUPYTERHUB_SERVICE_PREFIX']\n",
    "    proxy_url_path = 'proxy/%d' % port\n",
    "\n",
    "    user_url = urllib.parse.urljoin(base_url, service_url_path)\n",
    "    full_url = urllib.parse.urljoin(user_url, proxy_url_path)\n",
    "    return full_url\n",
    "\n",
    "\n",
    "\n",
    "def show_document(doc):\n",
    "    servers = list(serverapp.list_running_servers())[0] \n",
    "    if servers['hostname'] == 'localhost':\n",
    "        show(doc) \n",
    "    else:\n",
    "        show(doc, notebook_url=remote_jupyter_proxy_url)\n"
   ]
  },
  {
   "cell_type": "markdown",
   "metadata": {},
   "source": [
    "### Utilisation de la figure"
   ]
  },
  {
   "cell_type": "markdown",
   "metadata": {},
   "source": [
    "On varie h et $\\theta$ et on observe: \n",
    "\n",
    "- l'intensité et la direction de $\\vec N$, calculé par la relation $N= m g \\Big(A \\frac{h}{R} - A (1 + \\sin\\theta) -  \\sin \\theta \\Big)$\n",
    "\n",
    "- et l'allure de la parabole qu'aurait une bille en chute libre avec $\\vec v_p$ en P. "
   ]
  },
  {
   "cell_type": "markdown",
   "metadata": {},
   "source": [
    "***Comment se place la parabole par rapport à la glissière quand N=0 ? Et quand N>0 ? Et N<0 ?***"
   ]
  },
  {
   "cell_type": "code",
   "execution_count": null,
   "metadata": {},
   "outputs": [],
   "source": [
    "show_document(modify_doc) "
   ]
  },
  {
   "cell_type": "markdown",
   "metadata": {},
   "source": [
    "# Feedback"
   ]
  },
  {
   "cell_type": "code",
   "execution_count": null,
   "metadata": {},
   "outputs": [],
   "source": [
    "IFrame('https://www.surveymonkey.com/r/NOTOSURVEY?notebook_set=MecaDRIL&notebook_id=bille_sur_glissiere', 600, 800)"
   ]
  },
  {
   "cell_type": "markdown",
   "metadata": {},
   "source": [
    "Notebook by Cécile Hébert (2018-2023). Except where otherwise noted, the content of this notebook is licensed under MIT licence."
   ]
  }
 ],
 "metadata": {
  "hide_input": false,
  "kernelspec": {
   "display_name": "Python 3 (ipykernel)",
   "language": "python",
   "name": "python3"
  },
  "language_info": {
   "codemirror_mode": {
    "name": "ipython",
    "version": 3
   },
   "file_extension": ".py",
   "mimetype": "text/x-python",
   "name": "python",
   "nbconvert_exporter": "python",
   "pygments_lexer": "ipython3",
   "version": "3.9.15"
  }
 },
 "nbformat": 4,
 "nbformat_minor": 2
}
